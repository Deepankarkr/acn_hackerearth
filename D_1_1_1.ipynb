{
  "nbformat": 4,
  "nbformat_minor": 0,
  "metadata": {
    "colab": {
      "name": "D 1-1-1",
      "version": "0.3.2",
      "provenance": [],
      "include_colab_link": true
    },
    "language_info": {
      "codemirror_mode": {
        "name": "ipython",
        "version": 3
      },
      "file_extension": ".py",
      "mimetype": "text/x-python",
      "name": "python",
      "nbconvert_exporter": "python",
      "pygments_lexer": "ipython3",
      "version": "3.6.8"
    },
    "kernelspec": {
      "display_name": "Python 3",
      "language": "python",
      "name": "python3"
    }
  },
  "cells": [
    {
      "cell_type": "markdown",
      "metadata": {
        "id": "view-in-github",
        "colab_type": "text"
      },
      "source": [
        "<a href=\"https://colab.research.google.com/github/Deepankarkr/Code-library/blob/master/D_1_1_1.ipynb\" target=\"_parent\"><img src=\"https://colab.research.google.com/assets/colab-badge.svg\" alt=\"Open In Colab\"/></a>"
      ]
    },
    {
      "cell_type": "markdown",
      "metadata": {
        "button": false,
        "deletable": true,
        "new_sheet": false,
        "run_control": {
          "read_only": false
        },
        "id": "fsg2BCvvtFd0",
        "colab_type": "text"
      },
      "source": [
        "# From Problem to Approach"
      ]
    },
    {
      "cell_type": "markdown",
      "metadata": {
        "button": false,
        "deletable": true,
        "new_sheet": false,
        "run_control": {
          "read_only": false
        },
        "id": "HSbb_q0jtFd5",
        "colab_type": "text"
      },
      "source": [
        "## Introduction\n",
        "\n",
        " **Business Understanding** and the **Analytic Approach** stages.\n",
        " "
      ]
    },
    {
      "cell_type": "markdown",
      "metadata": {
        "button": false,
        "deletable": true,
        "new_sheet": false,
        "run_control": {
          "read_only": false
        },
        "id": "YqxPYutXtFd7",
        "colab_type": "text"
      },
      "source": [
        "## Table of Contents\n",
        "\n",
        "\n",
        "\n",
        "1. Business Understanding\n",
        "2. Analytic Approach\n"
      ]
    },
    {
      "cell_type": "markdown",
      "metadata": {
        "button": false,
        "deletable": true,
        "new_sheet": false,
        "run_control": {
          "read_only": false
        },
        "id": "vYakwMwMtFd8",
        "colab_type": "text"
      },
      "source": [
        "# Business Understanding"
      ]
    },
    {
      "cell_type": "markdown",
      "metadata": {
        "button": false,
        "deletable": true,
        "new_sheet": false,
        "run_control": {
          "read_only": false
        },
        "id": "CETpockKtFd-",
        "colab_type": "text"
      },
      "source": [
        "This is the **Data Science Methodology**, a flowchart that begins with business understanding."
      ]
    },
    {
      "cell_type": "markdown",
      "metadata": {
        "button": false,
        "deletable": true,
        "new_sheet": false,
        "run_control": {
          "read_only": false
        },
        "id": "BvogLPa1tFd_",
        "colab_type": "text"
      },
      "source": [
        "<img src=\"https://s3-api.us-geo.objectstorage.softlayer.net/cf-courses-data/CognitiveClass/DS0103EN/labs/images/lab1_fig1_flowchart_business_understanding.png\" >"
      ]
    },
    {
      "cell_type": "markdown",
      "metadata": {
        "button": false,
        "deletable": true,
        "new_sheet": false,
        "run_control": {
          "read_only": false
        },
        "id": "DC9zjW2btFeA",
        "colab_type": "text"
      },
      "source": [
        "#### Why is the business understanding stage important?"
      ]
    },
    {
      "cell_type": "markdown",
      "metadata": {
        "button": false,
        "deletable": true,
        "new_sheet": false,
        "run_control": {
          "read_only": false
        },
        "id": "XNQzln7ctFeD",
        "colab_type": "text"
      },
      "source": [
        "\n",
        "The correct answer is:\n",
        "It helps clarify the goal of the entity asking the question."
      ]
    },
    {
      "cell_type": "markdown",
      "metadata": {
        "button": false,
        "deletable": true,
        "new_sheet": false,
        "run_control": {
          "read_only": false
        },
        "id": "gNHiaOnytFeE",
        "colab_type": "text"
      },
      "source": [
        "#### Looking at this diagram, we immediately spot two outstanding features of the data science methodology."
      ]
    },
    {
      "cell_type": "markdown",
      "metadata": {
        "button": false,
        "deletable": true,
        "new_sheet": false,
        "run_control": {
          "read_only": false
        },
        "id": "l-P27ITVtFeF",
        "colab_type": "text"
      },
      "source": [
        "<img src = \"https://s3-api.us-geo.objectstorage.softlayer.net/cf-courses-data/CognitiveClass/DS0103EN/labs/images/lab1_fig2_datascience_methodology_flowchart.png\" > "
      ]
    },
    {
      "cell_type": "markdown",
      "metadata": {
        "button": false,
        "deletable": true,
        "new_sheet": false,
        "run_control": {
          "read_only": false
        },
        "id": "V58fPWlHtFeG",
        "colab_type": "text"
      },
      "source": [
        "#### What are they?"
      ]
    },
    {
      "cell_type": "markdown",
      "metadata": {
        "button": false,
        "deletable": true,
        "new_sheet": false,
        "run_control": {
          "read_only": false
        },
        "id": "_wd_o27DtFeJ",
        "colab_type": "text"
      },
      "source": [
        "The correct answer is: \n",
        "1. The flowchart is highly iterative.\n",
        "2. The flowchart never ends. \n"
      ]
    },
    {
      "cell_type": "markdown",
      "metadata": {
        "button": false,
        "deletable": true,
        "new_sheet": false,
        "run_control": {
          "read_only": false
        },
        "id": "Ibb7_B7WtFeK",
        "colab_type": "text"
      },
      "source": [
        "#### Now let's illustrate the data science methodology with a case study."
      ]
    },
    {
      "cell_type": "markdown",
      "metadata": {
        "button": false,
        "deletable": true,
        "new_sheet": false,
        "run_control": {
          "read_only": false
        },
        "id": "MmULxOXstFeL",
        "colab_type": "text"
      },
      "source": [
        "## Say, we are interested in automating the process of figuring out the cuisine of a given dish or recipe. Let's apply the business understanding stage to this problem."
      ]
    },
    {
      "cell_type": "markdown",
      "metadata": {
        "button": false,
        "deletable": true,
        "new_sheet": false,
        "run_control": {
          "read_only": false
        },
        "id": "8aPPPVnrtFeN",
        "colab_type": "text"
      },
      "source": [
        "#### Q. Can we predict the cuisine of a given dish using the name of the dish only?"
      ]
    },
    {
      "cell_type": "markdown",
      "metadata": {
        "button": false,
        "deletable": true,
        "new_sheet": false,
        "run_control": {
          "read_only": false
        },
        "id": "-df2HduttFeP",
        "colab_type": "text"
      },
      "source": [
        "The correct answer is: \n",
        "No.\n",
        "\n"
      ]
    },
    {
      "cell_type": "markdown",
      "metadata": {
        "button": false,
        "deletable": true,
        "new_sheet": false,
        "run_control": {
          "read_only": false
        },
        "id": "zdmCXB9QtFeR",
        "colab_type": "text"
      },
      "source": [
        "#### Q. For example, the following dish names were taken from the menu of a local restaurant in Toronto, Ontario in Canada. \n",
        "\n",
        "#### 1. Beast\n",
        "#### 2. 2 PM\n",
        "#### 3. 4 Minute"
      ]
    },
    {
      "cell_type": "markdown",
      "metadata": {
        "button": false,
        "deletable": true,
        "new_sheet": false,
        "run_control": {
          "read_only": false
        },
        "id": "zkF0jQTKtFeS",
        "colab_type": "text"
      },
      "source": [
        "#### Are you able to tell the cuisine of these dishes?"
      ]
    },
    {
      "cell_type": "markdown",
      "metadata": {
        "button": false,
        "deletable": true,
        "new_sheet": false,
        "run_control": {
          "read_only": false
        },
        "id": "bD4WD0vItFeV",
        "colab_type": "text"
      },
      "source": [
        "The correct answer is: \n",
        "The cuisine is <strong>Japanese</strong>. Here are links to the images of the dishes: \n",
        "\n",
        "\n",
        "Beast: ![alt text](https://ibm.box.com/shared/static/5e7duvewfl5bk4317sna5skvdhrehro2.png)\n",
        "\n",
        "\n",
        "2PM: ![alt text](https://ibm.box.com/shared/static/d9xuzqm8cq76zxxcc0f9gdts4iksipyk.png)\n",
        "\n",
        "\n",
        "4 Minute: ![alt text](https://ibm.box.com/shared/static/f1fwvvwn4u8rx8tghep6zyj5pi6a8v8k.png)\n",
        "\n"
      ]
    },
    {
      "cell_type": "markdown",
      "metadata": {
        "button": false,
        "deletable": true,
        "new_sheet": false,
        "run_control": {
          "read_only": false
        },
        "id": "ZkEBCnIktFeX",
        "colab_type": "text"
      },
      "source": [
        "#### Q. What about by appearance only? Yes or No."
      ]
    },
    {
      "cell_type": "markdown",
      "metadata": {
        "button": false,
        "deletable": true,
        "new_sheet": false,
        "run_control": {
          "read_only": false
        },
        "id": "5MS_SFL0tFea",
        "colab_type": "text"
      },
      "source": [
        "The correct answer is: -\n",
        "\n",
        "No, especially when it comes to countries in close geographical proximity such as Scandinavian countries, or Asian countries.\n"
      ]
    },
    {
      "cell_type": "markdown",
      "metadata": {
        "button": false,
        "deletable": true,
        "new_sheet": false,
        "run_control": {
          "read_only": false
        },
        "id": "XhmpGBa7tFeb",
        "colab_type": "text"
      },
      "source": [
        "At this point, we realize that automating the process of determining the cuisine of a given dish is not a straightforward problem as we need to come up with a way that is very robust to the many cuisines and their variations."
      ]
    },
    {
      "cell_type": "markdown",
      "metadata": {
        "button": false,
        "deletable": true,
        "new_sheet": false,
        "run_control": {
          "read_only": false
        },
        "id": "YfZ3usIVtFec",
        "colab_type": "text"
      },
      "source": [
        "#### Q. What about determining the cuisine of a dish based on its ingredients?"
      ]
    },
    {
      "cell_type": "markdown",
      "metadata": {
        "button": false,
        "deletable": true,
        "new_sheet": false,
        "run_control": {
          "read_only": false
        },
        "id": "ZHFfmURatFei",
        "colab_type": "text"
      },
      "source": [
        " The correct answer is: \n",
        "Potentially yes, as there are specific ingredients unique to each cuisine.\n"
      ]
    },
    {
      "cell_type": "markdown",
      "metadata": {
        "button": false,
        "deletable": true,
        "new_sheet": false,
        "run_control": {
          "read_only": false
        },
        "id": "seGOHIcwtFej",
        "colab_type": "text"
      },
      "source": [
        "As you guessed, yes determining the cuisine of a given dish based on its ingredients seems like a viable solution as some ingredients are unique to cuisines. For example:"
      ]
    },
    {
      "cell_type": "markdown",
      "metadata": {
        "button": false,
        "deletable": true,
        "new_sheet": false,
        "run_control": {
          "read_only": false
        },
        "id": "1F57f6wOtFel",
        "colab_type": "text"
      },
      "source": [
        "* When we talk about **American** cuisines, the first ingredient that comes to one's mind (or at least to my mind =D) is beef or turkey.\n",
        "\n",
        "* When we talk about **British** cuisines, the first ingredient that comes to one's mind is haddock or mint sauce.\n",
        "\n",
        "* When we talk about **Canadian** cuisines, the first ingredient that comes to one's mind is bacon or poutine.\n",
        "\n",
        "* When we talk about **French** cuisines, the first ingredient that comes to one's mind is bread or butter.\n",
        "\n",
        "* When we talk about **Italian** cuisines, the first ingredient that comes to one's mind is tomato or ricotta.\n",
        "\n",
        "* When we talk about **Japanese** cuisines, the first ingredient that comes to one's mind is seaweed or soy sauce.\n",
        "\n",
        "* When we talk about **Chinese** cuisines, the first ingredient that comes to one's mind is ginger or garlic.\n",
        "\n",
        "* When we talk about **indian** cuisines, the first ingredient that comes to one's mind is masala or chillis."
      ]
    },
    {
      "cell_type": "markdown",
      "metadata": {
        "button": false,
        "deletable": true,
        "new_sheet": false,
        "run_control": {
          "read_only": false
        },
        "id": "7qTb6dS_tFen",
        "colab_type": "text"
      },
      "source": [
        "#### Accordingly, can you determine the cuisine of the dish associated with the following list of ingredients?"
      ]
    },
    {
      "cell_type": "markdown",
      "metadata": {
        "button": false,
        "deletable": true,
        "new_sheet": false,
        "run_control": {
          "read_only": false
        },
        "id": "dmCMYYiTtFep",
        "colab_type": "text"
      },
      "source": [
        "<img src=\"https://s3-api.us-geo.objectstorage.softlayer.net/cf-courses-data/CognitiveClass/DS0103EN/labs/images/lab1_fig3_ingredients.png\">"
      ]
    },
    {
      "cell_type": "markdown",
      "metadata": {
        "button": false,
        "deletable": true,
        "new_sheet": false,
        "run_control": {
          "read_only": false
        },
        "id": "yBC6Z3MvtFes",
        "colab_type": "text"
      },
      "source": [
        "The correct answer is: \n",
        "Japanese since the recipe is most likely that of a sushi roll.\n"
      ]
    },
    {
      "cell_type": "markdown",
      "metadata": {
        "button": false,
        "deletable": true,
        "new_sheet": false,
        "run_control": {
          "read_only": false
        },
        "id": "TeHdvtdNtFet",
        "colab_type": "text"
      },
      "source": [
        "# Analytic Approach <a id=\"2\"></a>"
      ]
    },
    {
      "cell_type": "markdown",
      "metadata": {
        "button": false,
        "deletable": true,
        "new_sheet": false,
        "run_control": {
          "read_only": false
        },
        "id": "rw_fI3IRtFev",
        "colab_type": "text"
      },
      "source": [
        "<img src=\"https://s3-api.us-geo.objectstorage.softlayer.net/cf-courses-data/CognitiveClass/DS0103EN/labs/images/lab1_fig4_flowchart_analytic_approach.png\">"
      ]
    },
    {
      "cell_type": "markdown",
      "metadata": {
        "button": false,
        "deletable": true,
        "new_sheet": false,
        "run_control": {
          "read_only": false
        },
        "id": "77pMRXxitFew",
        "colab_type": "text"
      },
      "source": [
        "#### So why are we interested in data science?"
      ]
    },
    {
      "cell_type": "markdown",
      "metadata": {
        "button": false,
        "deletable": true,
        "new_sheet": false,
        "run_control": {
          "read_only": false
        },
        "id": "bxJsdvd0tFey",
        "colab_type": "text"
      },
      "source": [
        "Once the business problem has been clearly stated, the data scientist can define the analytic approach to solve the problem. This step entails expressing the problem in the context of statistical and machine-learning techniques, so that the entity or stakeholders with the problem can identify the most suitable techniques for the desired outcome. "
      ]
    },
    {
      "cell_type": "markdown",
      "metadata": {
        "button": false,
        "deletable": true,
        "new_sheet": false,
        "run_control": {
          "read_only": false
        },
        "id": "AoBteV7CtFez",
        "colab_type": "text"
      },
      "source": [
        "#### Why is the analytic approach stage important?"
      ]
    },
    {
      "cell_type": "markdown",
      "metadata": {
        "button": false,
        "deletable": true,
        "new_sheet": false,
        "run_control": {
          "read_only": false
        },
        "id": "l1r1j7xztFe4",
        "colab_type": "text"
      },
      "source": [
        "The correct answer is: \n",
        "Because it helps identify what type of patterns will be needed to address the question most effectively.\n",
        "\n"
      ]
    },
    {
      "cell_type": "markdown",
      "metadata": {
        "button": false,
        "deletable": true,
        "new_sheet": false,
        "run_control": {
          "read_only": false
        },
        "id": "g3-oq7iptFe6",
        "colab_type": "text"
      },
      "source": [
        "#### Let's explore a machine learning algorithm, decision trees, and see if it is the right technique to automate the process of identifying the cuisine of a given dish or recipe while simultaneously providing us with some insight on why a given recipe is believed to belong to a certain type of cuisine."
      ]
    },
    {
      "cell_type": "markdown",
      "metadata": {
        "button": false,
        "deletable": true,
        "new_sheet": false,
        "run_control": {
          "read_only": false
        },
        "id": "dKN-06cJtFe7",
        "colab_type": "text"
      },
      "source": [
        "This is a decision tree that a naive person might create manually. Starting at the top with all the recipes for all the cuisines in the world, if a recipe contains **rice**, then this decision tree would classify it as a **Japanese** cuisine. Otherwise, it would be classified as not a **Japanese** cuisine."
      ]
    },
    {
      "cell_type": "markdown",
      "metadata": {
        "button": false,
        "deletable": true,
        "new_sheet": false,
        "run_control": {
          "read_only": false
        },
        "id": "0uJ1-8b2tFe8",
        "colab_type": "text"
      },
      "source": [
        "<img src=\"https://s3-api.us-geo.objectstorage.softlayer.net/cf-courses-data/CognitiveClass/DS0103EN/labs/images/lab1_fig5_decision_tree_3.png\">"
      ]
    },
    {
      "cell_type": "markdown",
      "metadata": {
        "button": false,
        "deletable": true,
        "new_sheet": false,
        "run_control": {
          "read_only": false
        },
        "id": "2uwG5KXdtFe9",
        "colab_type": "text"
      },
      "source": [
        "#### Is this a good decision tree?  Yes or  No, and why? "
      ]
    },
    {
      "cell_type": "markdown",
      "metadata": {
        "button": false,
        "deletable": true,
        "new_sheet": false,
        "run_control": {
          "read_only": false
        },
        "id": "PUZ3UmVYtFfB",
        "colab_type": "text"
      },
      "source": [
        "The correct answer is: \n",
        "No, because a plethora of dishes from other cuisines contain rice. Therefore, using rice as the ingredient in the Decision node to split on is not a good choice.\n"
      ]
    },
    {
      "cell_type": "markdown",
      "metadata": {
        "button": false,
        "deletable": true,
        "new_sheet": false,
        "run_control": {
          "read_only": false
        },
        "id": "H2p1-Wh7tFfD",
        "colab_type": "text"
      },
      "source": [
        "#### In order to build a very powerful decision tree for the recipe case study, let's take some time to learn more about decision trees."
      ]
    },
    {
      "cell_type": "markdown",
      "metadata": {
        "button": false,
        "deletable": true,
        "new_sheet": false,
        "run_control": {
          "read_only": false
        },
        "id": "x6T35i3jtFfE",
        "colab_type": "text"
      },
      "source": [
        "* Decision trees are built using recursive partitioning to classify the data.\n",
        "* When partitioning the data, decision trees use the most predictive feature (ingredient in this case) to split the data.\n",
        "* **Predictiveness** is based on decrease in entropy - gain in information, or *impurity*."
      ]
    },
    {
      "cell_type": "markdown",
      "metadata": {
        "button": false,
        "deletable": true,
        "new_sheet": false,
        "run_control": {
          "read_only": false
        },
        "id": "T575r5zJtFfG",
        "colab_type": "text"
      },
      "source": [
        "#### Suppose that our data is comprised of green triangles and red circles."
      ]
    },
    {
      "cell_type": "markdown",
      "metadata": {
        "button": false,
        "deletable": true,
        "new_sheet": false,
        "run_control": {
          "read_only": false
        },
        "id": "Yxthv1b-tFfH",
        "colab_type": "text"
      },
      "source": [
        "The following decision tree would be considered the optimal model for classifying the data into a node for green triangles and a node for red circles."
      ]
    },
    {
      "cell_type": "markdown",
      "metadata": {
        "button": false,
        "deletable": true,
        "new_sheet": false,
        "run_control": {
          "read_only": false
        },
        "id": "pIpupYSWtFfI",
        "colab_type": "text"
      },
      "source": [
        "<img src=\"https://s3-api.us-geo.objectstorage.softlayer.net/cf-courses-data/CognitiveClass/DS0103EN/labs/images/lab1_fig6_decision_tree_5.png\">"
      ]
    },
    {
      "cell_type": "markdown",
      "metadata": {
        "button": false,
        "deletable": true,
        "new_sheet": false,
        "run_control": {
          "read_only": false
        },
        "id": "1BYr0TaBtFfK",
        "colab_type": "text"
      },
      "source": [
        "Each of the classes in the leaf nodes are completely pure – that is, each leaf node only contains datapoints that belong to the same class."
      ]
    },
    {
      "cell_type": "markdown",
      "metadata": {
        "button": false,
        "deletable": true,
        "new_sheet": false,
        "run_control": {
          "read_only": false
        },
        "id": "zr7KkPqhtFfL",
        "colab_type": "text"
      },
      "source": [
        "On the other hand, the following decision tree is an example of the worst-case scenario that the model could output. "
      ]
    },
    {
      "cell_type": "markdown",
      "metadata": {
        "button": false,
        "deletable": true,
        "new_sheet": false,
        "run_control": {
          "read_only": false
        },
        "id": "MtLzckEttFfN",
        "colab_type": "text"
      },
      "source": [
        "<img src=\"https://s3-api.us-geo.objectstorage.softlayer.net/cf-courses-data/CognitiveClass/DS0103EN/labs/images/lab1_fig7_decision_tree_2.png\" >"
      ]
    },
    {
      "cell_type": "markdown",
      "metadata": {
        "button": false,
        "deletable": true,
        "new_sheet": false,
        "run_control": {
          "read_only": false
        },
        "id": "T549lMl6tFfO",
        "colab_type": "text"
      },
      "source": [
        "Each leaf node contains datapoints belonging to the two classes resulting in many datapoints ultimately being misclassified."
      ]
    },
    {
      "cell_type": "markdown",
      "metadata": {
        "button": false,
        "deletable": true,
        "new_sheet": false,
        "run_control": {
          "read_only": false
        },
        "id": "IjY_avAGtFfP",
        "colab_type": "text"
      },
      "source": [
        "#### A tree stops growing at a node when:\n",
        "* Pure or nearly pure.\n",
        "* No remaining variables on which to further subset the data.\n",
        "* The tree has grown to a preselected size limit."
      ]
    },
    {
      "cell_type": "markdown",
      "metadata": {
        "button": false,
        "deletable": true,
        "new_sheet": false,
        "run_control": {
          "read_only": false
        },
        "id": "CaOQ5vHBtFfR",
        "colab_type": "text"
      },
      "source": [
        "#### Here are some characteristics of decision trees:"
      ]
    },
    {
      "cell_type": "markdown",
      "metadata": {
        "button": false,
        "deletable": true,
        "new_sheet": false,
        "run_control": {
          "read_only": false
        },
        "id": "RruMmGHRtFfT",
        "colab_type": "text"
      },
      "source": [
        "<img src=\"https://s3-api.us-geo.objectstorage.softlayer.net/cf-courses-data/CognitiveClass/DS0103EN/labs/images/lab1_fig8_decision_trees_table.png\">"
      ]
    },
    {
      "cell_type": "markdown",
      "metadata": {
        "button": false,
        "deletable": true,
        "new_sheet": false,
        "run_control": {
          "read_only": false
        },
        "id": "5pCNat2NtFfV",
        "colab_type": "text"
      },
      "source": [
        "Now let's put what we learned about decision trees to use. Let's try and build a much better version of the decision tree for our recipe problem."
      ]
    },
    {
      "cell_type": "markdown",
      "metadata": {
        "button": false,
        "deletable": true,
        "new_sheet": false,
        "run_control": {
          "read_only": false
        },
        "id": "jXh-H4zTtFfX",
        "colab_type": "text"
      },
      "source": [
        "<img src=\"https://s3-api.us-geo.objectstorage.softlayer.net/cf-courses-data/CognitiveClass/DS0103EN/labs/images/lab1_fig9_decision_tree_4.png\" width = 800>"
      ]
    },
    {
      "cell_type": "markdown",
      "metadata": {
        "button": false,
        "deletable": true,
        "new_sheet": false,
        "run_control": {
          "read_only": false
        },
        "id": "O8inswfEtFfZ",
        "colab_type": "text"
      },
      "source": [
        "I hope you agree that the above decision tree is a much better version than the previous one. Although we are still using **Rice** as the ingredient in the first *decision node*, recipes get divided into **Asian Food** and **Non-Asian Food**. **Asian Food** is then further divided into **Japanese** and **Not Japanese** based on the **Wasabi** ingredient. This process of splitting *leaf nodes* continues until each *leaf node* is pure, i.e., containing recipes belonging to only one cuisine."
      ]
    },
    {
      "cell_type": "markdown",
      "metadata": {
        "button": false,
        "deletable": true,
        "new_sheet": false,
        "run_control": {
          "read_only": false
        },
        "id": "OWyVgf14tFfb",
        "colab_type": "text"
      },
      "source": [
        "Accordingly, decision trees is a suitable technique or algorithm for our recipe case study."
      ]
    },
    {
      "cell_type": "markdown",
      "metadata": {
        "button": false,
        "deletable": true,
        "new_sheet": false,
        "run_control": {
          "read_only": false
        },
        "id": "N7yUGLXntFfc",
        "colab_type": "text"
      },
      "source": [
        "### Thank you for completing this lab!\n",
        "\n",
        "This notebook was created by Alex Aklson .  I hope you found this lab session interesting. Feel free to contact me if you have any questions!"
      ]
    },
    {
      "cell_type": "markdown",
      "metadata": {
        "button": false,
        "deletable": true,
        "new_sheet": false,
        "run_control": {
          "read_only": false
        },
        "id": "ysFvE4RGtFfe",
        "colab_type": "text"
      },
      "source": [
        "This notebook is part of a course on **Coursera** called *Data Science Methodology*. If you accessed this notebook outside the course, you can take this course, online by clicking (http://cocl.us/DS0103EN_Coursera_LAB1)."
      ]
    },
    {
      "cell_type": "markdown",
      "metadata": {
        "button": false,
        "deletable": true,
        "new_sheet": false,
        "run_control": {
          "read_only": false
        },
        "id": "690moxG7tFfg",
        "colab_type": "text"
      },
      "source": [
        "<hr>\n",
        "\n",
        "Copyright &copy; 2019 [Cognitive Class](https://cognitiveclass.ai/?utm_source=bducopyrightlink&utm_medium=dswb&utm_campaign=bdu). This notebook and its source code are released under the terms of the [MIT License](https://bigdatauniversity.com/mit-license/)."
      ]
    },
    {
      "cell_type": "code",
      "metadata": {
        "id": "44WHEb594bYR",
        "colab_type": "code",
        "colab": {}
      },
      "source": [
        ""
      ],
      "execution_count": 0,
      "outputs": []
    }
  ]
}
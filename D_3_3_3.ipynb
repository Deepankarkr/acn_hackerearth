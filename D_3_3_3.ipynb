{
  "nbformat": 4,
  "nbformat_minor": 0,
  "metadata": {
    "colab": {
      "name": "D 3-3-3",
      "version": "0.3.2",
      "provenance": [],
      "include_colab_link": true
    },
    "language_info": {
      "codemirror_mode": {
        "name": "ipython",
        "version": 3
      },
      "file_extension": ".py",
      "mimetype": "text/x-python",
      "name": "python",
      "nbconvert_exporter": "python",
      "pygments_lexer": "ipython3",
      "version": "3.6.8"
    },
    "kernelspec": {
      "display_name": "Python 3",
      "language": "python",
      "name": "python3"
    }
  },
  "cells": [
    {
      "cell_type": "markdown",
      "metadata": {
        "id": "view-in-github",
        "colab_type": "text"
      },
      "source": [
        "<a href=\"https://colab.research.google.com/github/Deepankarkr/Code-library/blob/master/D_3_3_3.ipynb\" target=\"_parent\"><img src=\"https://colab.research.google.com/assets/colab-badge.svg\" alt=\"Open In Colab\"/></a>"
      ]
    },
    {
      "cell_type": "markdown",
      "metadata": {
        "button": false,
        "deletable": true,
        "new_sheet": false,
        "run_control": {
          "read_only": false
        },
        "id": "lvYF2fP57LIr",
        "colab_type": "text"
      },
      "source": [
        "# From Understanding to Preparation"
      ]
    },
    {
      "cell_type": "markdown",
      "metadata": {
        "button": false,
        "deletable": true,
        "new_sheet": false,
        "run_control": {
          "read_only": false
        },
        "id": "DAUKrStT7LIv",
        "colab_type": "text"
      },
      "source": [
        "## Introduction\n",
        "\n",
        "In this lab, we will continue learning about the data science methodology, and focus on the **Data Understanding** and the **Data Preparation** stages."
      ]
    },
    {
      "cell_type": "markdown",
      "metadata": {
        "button": false,
        "deletable": true,
        "new_sheet": false,
        "run_control": {
          "read_only": false
        },
        "id": "u6DT7LEF7LIw",
        "colab_type": "text"
      },
      "source": [
        "## Table of Contents\n",
        "\n",
        "\n",
        "1. Recap\n",
        "2. Data Understanding\n",
        "3. Data Preparation\n"
      ]
    },
    {
      "cell_type": "markdown",
      "metadata": {
        "button": false,
        "deletable": true,
        "new_sheet": false,
        "run_control": {
          "read_only": false
        },
        "id": "N8GvPXrO7LIx",
        "colab_type": "text"
      },
      "source": [
        "# Recap "
      ]
    },
    {
      "cell_type": "markdown",
      "metadata": {
        "button": false,
        "deletable": true,
        "new_sheet": false,
        "run_control": {
          "read_only": false
        },
        "id": "gsWHzOfj7LIx",
        "colab_type": "text"
      },
      "source": [
        "In Lab **From Requirements to Collection**, we learned that the data we need to answer the question developed in the business understanding stage, namely *can we automate the process of determining the cuisine of a given recipe?*, is readily available. A researcher named Yong-Yeol Ahn scraped tens of thousands of food recipes (cuisines and ingredients) from three different websites, namely:"
      ]
    },
    {
      "cell_type": "markdown",
      "metadata": {
        "button": false,
        "deletable": true,
        "new_sheet": false,
        "run_control": {
          "read_only": false
        },
        "id": "Eo7t0dZF7LIz",
        "colab_type": "text"
      },
      "source": [
        "<img src = \"https://s3-api.us-geo.objectstorage.softlayer.net/cf-courses-data/CognitiveClass/DS0103EN/labs/images/lab3_fig1_allrecipes.png\" >\n",
        "\n",
        "www.allrecipes.com\n",
        "\n",
        "<img src = \"https://s3-api.us-geo.objectstorage.softlayer.net/cf-courses-data/CognitiveClass/DS0103EN/labs/images/lab3_fig2_epicurious.png\" >\n",
        "\n",
        "www.epicurious.com\n",
        "\n",
        "<img src = \"https://s3-api.us-geo.objectstorage.softlayer.net/cf-courses-data/CognitiveClass/DS0103EN/labs/images/lab3_fig3_menupan.png\" >\n",
        "\n",
        "www.menupan.com"
      ]
    },
    {
      "cell_type": "markdown",
      "metadata": {
        "button": false,
        "deletable": true,
        "new_sheet": false,
        "run_control": {
          "read_only": false
        },
        "id": "UaEv8ysv7LI0",
        "colab_type": "text"
      },
      "source": [
        "For more information on Yong-Yeol Ahn and his research, you can read his paper on [Flavor Network and the Principles of Food Pairing](http://yongyeol.com/papers/ahn-flavornet-2011.pdf)."
      ]
    },
    {
      "cell_type": "markdown",
      "metadata": {
        "button": false,
        "deletable": true,
        "new_sheet": false,
        "run_control": {
          "read_only": false
        },
        "id": "G7PyWOaL7LI0",
        "colab_type": "text"
      },
      "source": [
        "We also collected the data and placed it on an IBM server for your convenience.\n",
        "\n",
        "------------"
      ]
    },
    {
      "cell_type": "markdown",
      "metadata": {
        "button": false,
        "deletable": true,
        "new_sheet": false,
        "run_control": {
          "read_only": false
        },
        "id": "lUybFEK07LI1",
        "colab_type": "text"
      },
      "source": [
        "# Data Understanding "
      ]
    },
    {
      "cell_type": "markdown",
      "metadata": {
        "button": false,
        "deletable": true,
        "new_sheet": false,
        "run_control": {
          "read_only": false
        },
        "id": "yaLDgcsE7LI2",
        "colab_type": "text"
      },
      "source": [
        "<img src=\"https://s3-api.us-geo.objectstorage.softlayer.net/cf-courses-data/CognitiveClass/DS0103EN/labs/images/lab3_fig4_flowchart_data_understanding.png\">"
      ]
    },
    {
      "cell_type": "markdown",
      "metadata": {
        "button": false,
        "deletable": true,
        "new_sheet": false,
        "run_control": {
          "read_only": false
        },
        "id": "7LyKhfep7LI3",
        "colab_type": "text"
      },
      "source": [
        "<strong> Important note:</strong> Please note that you are not expected to know how to program in Python. The following code is meant to illustrate the stages of data understanding and data preparation, so it is totally fine if you do not understand the individual lines of code. We have a full course on programming in Python, <a href=\"http://cocl.us/PY0101EN_DS0103EN_LAB3_PYTHON_Coursera\"><strong>Python for Data Science</strong></a>, which is also offered on Coursera. So make sure to complete the Python course if you are interested in learning how to program in Python."
      ]
    },
    {
      "cell_type": "markdown",
      "metadata": {
        "button": false,
        "deletable": true,
        "new_sheet": false,
        "run_control": {
          "read_only": false
        },
        "id": "K53Z89Iv7LI4",
        "colab_type": "text"
      },
      "source": [
        "### Using this notebook:\n",
        "\n",
        "To run any of the following cells of code, you can type **Shift + Enter** to excute the code in a cell."
      ]
    },
    {
      "cell_type": "markdown",
      "metadata": {
        "button": false,
        "deletable": true,
        "new_sheet": false,
        "run_control": {
          "read_only": false
        },
        "id": "3aY0k0tB7LI5",
        "colab_type": "text"
      },
      "source": [
        "Get the version of Python installed."
      ]
    },
    {
      "cell_type": "code",
      "metadata": {
        "button": false,
        "deletable": true,
        "new_sheet": false,
        "run_control": {
          "read_only": false
        },
        "id": "rhmvBNjw7LI6",
        "colab_type": "code",
        "colab": {}
      },
      "source": [
        "# check Python version\n",
        "!python -V"
      ],
      "execution_count": 0,
      "outputs": []
    },
    {
      "cell_type": "markdown",
      "metadata": {
        "button": false,
        "deletable": true,
        "new_sheet": false,
        "run_control": {
          "read_only": false
        },
        "id": "XQGOdmxl7LI-",
        "colab_type": "text"
      },
      "source": [
        "Download the library and dependencies that we will need to run this lab."
      ]
    },
    {
      "cell_type": "code",
      "metadata": {
        "button": false,
        "deletable": true,
        "new_sheet": false,
        "run_control": {
          "read_only": false
        },
        "id": "hR4lpmj_7LI_",
        "colab_type": "code",
        "colab": {}
      },
      "source": [
        "import pandas as pd # import library to read data into dataframe\n",
        "pd.set_option('display.max_columns', None)\n",
        "import numpy as np # import numpy library\n",
        "import re # import library for regular expression"
      ],
      "execution_count": 0,
      "outputs": []
    },
    {
      "cell_type": "markdown",
      "metadata": {
        "button": false,
        "deletable": true,
        "new_sheet": false,
        "run_control": {
          "read_only": false
        },
        "id": "2E3RbCMK7LJC",
        "colab_type": "text"
      },
      "source": [
        "Download the data from the IBM server and read it into a *pandas* dataframe."
      ]
    },
    {
      "cell_type": "code",
      "metadata": {
        "button": false,
        "deletable": true,
        "new_sheet": false,
        "run_control": {
          "read_only": false
        },
        "id": "yhaTISa87LJD",
        "colab_type": "code",
        "colab": {}
      },
      "source": [
        "recipes = pd.read_csv(\"https://s3-api.us-geo.objectstorage.softlayer.net/cf-courses-data/CognitiveClass/DS0103EN/labs/data/recipes.csv\")\n",
        "\n",
        "print(\"Data read into dataframe!\") # takes about 30 seconds"
      ],
      "execution_count": 0,
      "outputs": []
    },
    {
      "cell_type": "markdown",
      "metadata": {
        "button": false,
        "deletable": true,
        "new_sheet": false,
        "run_control": {
          "read_only": false
        },
        "id": "hr-IHAbk7LJF",
        "colab_type": "text"
      },
      "source": [
        "Show the first few rows."
      ]
    },
    {
      "cell_type": "code",
      "metadata": {
        "button": false,
        "deletable": true,
        "new_sheet": false,
        "run_control": {
          "read_only": false
        },
        "id": "tsVhXvHC7LJG",
        "colab_type": "code",
        "colab": {}
      },
      "source": [
        "recipes.head()"
      ],
      "execution_count": 0,
      "outputs": []
    },
    {
      "cell_type": "markdown",
      "metadata": {
        "button": false,
        "deletable": true,
        "new_sheet": false,
        "run_control": {
          "read_only": false
        },
        "id": "XtBQoC5i7LJL",
        "colab_type": "text"
      },
      "source": [
        "Get the dimensions of the dataframe."
      ]
    },
    {
      "cell_type": "code",
      "metadata": {
        "button": false,
        "deletable": true,
        "new_sheet": false,
        "run_control": {
          "read_only": false
        },
        "id": "hmXnfvd_7LJM",
        "colab_type": "code",
        "colab": {}
      },
      "source": [
        "recipes.shape"
      ],
      "execution_count": 0,
      "outputs": []
    },
    {
      "cell_type": "markdown",
      "metadata": {
        "button": false,
        "deletable": true,
        "new_sheet": false,
        "run_control": {
          "read_only": false
        },
        "id": "yTgHpSSM7LJP",
        "colab_type": "text"
      },
      "source": [
        "So our dataset consists of 57,691 recipes. Each row represents a recipe, and for each recipe, the corresponding cuisine is documented as well as whether 384 ingredients exist in the recipe or not, beginning with almond and ending with zucchini."
      ]
    },
    {
      "cell_type": "markdown",
      "metadata": {
        "button": false,
        "deletable": true,
        "new_sheet": false,
        "run_control": {
          "read_only": false
        },
        "id": "dEX9ZEer7LJQ",
        "colab_type": "text"
      },
      "source": [
        "We know that a basic sushi recipe includes the ingredients:\n",
        "* rice\n",
        "* soy sauce\n",
        "* wasabi\n",
        "* some fish/vegetables"
      ]
    },
    {
      "cell_type": "markdown",
      "metadata": {
        "button": false,
        "deletable": true,
        "new_sheet": false,
        "run_control": {
          "read_only": false
        },
        "id": "47r-5EDK7LJS",
        "colab_type": "text"
      },
      "source": [
        "Let's check that these ingredients exist in our dataframe:"
      ]
    },
    {
      "cell_type": "code",
      "metadata": {
        "button": false,
        "deletable": true,
        "new_sheet": false,
        "run_control": {
          "read_only": false
        },
        "id": "-m8Kvk1M7LJT",
        "colab_type": "code",
        "colab": {}
      },
      "source": [
        "ingredients = list(recipes.columns.values)\n",
        "\n",
        "print([match.group(0) for ingredient in ingredients for match in [(re.compile(\".*(rice).*\")).search(ingredient)] if match])\n",
        "print([match.group(0) for ingredient in ingredients for match in [(re.compile(\".*(wasabi).*\")).search(ingredient)] if match])\n",
        "print([match.group(0) for ingredient in ingredients for match in [(re.compile(\".*(soy).*\")).search(ingredient)] if match])"
      ],
      "execution_count": 0,
      "outputs": []
    },
    {
      "cell_type": "markdown",
      "metadata": {
        "button": false,
        "deletable": true,
        "new_sheet": false,
        "run_control": {
          "read_only": false
        },
        "id": "6zspSlrD7LJW",
        "colab_type": "text"
      },
      "source": [
        "Yes, they do!\n",
        "\n",
        "* rice exists as rice.\n",
        "* wasabi exists as wasabi.\n",
        "* soy exists as soy_sauce.\n",
        "\n",
        "So maybe if a recipe contains all three ingredients: rice, wasabi, and soy_sauce, then we can confidently say that the recipe is a **Japanese** cuisine! Let's keep this in mind!\n",
        "\n",
        "----------------"
      ]
    },
    {
      "cell_type": "markdown",
      "metadata": {
        "button": false,
        "deletable": true,
        "new_sheet": false,
        "run_control": {
          "read_only": false
        },
        "id": "p5IME9RL7LJW",
        "colab_type": "text"
      },
      "source": [
        "# Data Preparation <a id=\"4\"></a>"
      ]
    },
    {
      "cell_type": "markdown",
      "metadata": {
        "button": false,
        "deletable": true,
        "new_sheet": false,
        "run_control": {
          "read_only": false
        },
        "id": "i3sIDpyi7LJX",
        "colab_type": "text"
      },
      "source": [
        "<img src=\"https://s3-api.us-geo.objectstorage.softlayer.net/cf-courses-data/CognitiveClass/DS0103EN/labs/images/lab3_fig5_flowchart_data_preparation.png\" >"
      ]
    },
    {
      "cell_type": "markdown",
      "metadata": {
        "button": false,
        "deletable": true,
        "new_sheet": false,
        "run_control": {
          "read_only": false
        },
        "id": "p4Ahg87j7LJY",
        "colab_type": "text"
      },
      "source": [
        "In this section, we will prepare data for the next stage in the data science methodology, which is modeling. This stage involves exploring the data further and making sure that it is in the right format for the machine learning algorithm that we selected in the analytic approach stage, which is decision trees."
      ]
    },
    {
      "cell_type": "markdown",
      "metadata": {
        "button": false,
        "deletable": true,
        "new_sheet": false,
        "run_control": {
          "read_only": false
        },
        "id": "-cXrbnvA7LJZ",
        "colab_type": "text"
      },
      "source": [
        "First, look at the data to see if it needs cleaning."
      ]
    },
    {
      "cell_type": "code",
      "metadata": {
        "button": false,
        "deletable": true,
        "new_sheet": false,
        "run_control": {
          "read_only": false
        },
        "id": "1YTvH0es7LJa",
        "colab_type": "code",
        "colab": {}
      },
      "source": [
        "recipes[\"country\"].value_counts() # frequency table"
      ],
      "execution_count": 0,
      "outputs": []
    },
    {
      "cell_type": "markdown",
      "metadata": {
        "button": false,
        "deletable": true,
        "new_sheet": false,
        "run_control": {
          "read_only": false
        },
        "id": "7E0J3QnQ7LJd",
        "colab_type": "text"
      },
      "source": [
        "By looking at the above table, we can make the following observations:\n",
        "\n",
        "1. Cuisine column is labeled as Country, which is inaccurate.\n",
        "2. Cuisine names are not consistent as not all of them start with an uppercase first letter.\n",
        "3. Some cuisines are duplicated as variation of the country name, such as Vietnam and Vietnamese.\n",
        "4. Some cuisines have very few recipes."
      ]
    },
    {
      "cell_type": "markdown",
      "metadata": {
        "button": false,
        "deletable": true,
        "new_sheet": false,
        "run_control": {
          "read_only": false
        },
        "id": "McGutAe37LJd",
        "colab_type": "text"
      },
      "source": [
        "#### Let's fixes these problems."
      ]
    },
    {
      "cell_type": "markdown",
      "metadata": {
        "button": false,
        "deletable": true,
        "new_sheet": false,
        "run_control": {
          "read_only": false
        },
        "id": "XprIyX5d7LJe",
        "colab_type": "text"
      },
      "source": [
        "Fix the name of the column showing the cuisine."
      ]
    },
    {
      "cell_type": "code",
      "metadata": {
        "button": false,
        "deletable": true,
        "new_sheet": false,
        "run_control": {
          "read_only": false
        },
        "id": "TNpx6nRi7LJf",
        "colab_type": "code",
        "colab": {}
      },
      "source": [
        "column_names = recipes.columns.values\n",
        "column_names[0] = \"cuisine\"\n",
        "recipes.columns = column_names\n",
        "\n",
        "recipes"
      ],
      "execution_count": 0,
      "outputs": []
    },
    {
      "cell_type": "markdown",
      "metadata": {
        "button": false,
        "deletable": true,
        "new_sheet": false,
        "run_control": {
          "read_only": false
        },
        "id": "yZMiOuRI7LJi",
        "colab_type": "text"
      },
      "source": [
        "Make all the cuisine names lowercase."
      ]
    },
    {
      "cell_type": "code",
      "metadata": {
        "button": false,
        "deletable": true,
        "new_sheet": false,
        "run_control": {
          "read_only": false
        },
        "id": "d3LvZ1fQ7LJj",
        "colab_type": "code",
        "colab": {}
      },
      "source": [
        "recipes[\"cuisine\"] = recipes[\"cuisine\"].str.lower()"
      ],
      "execution_count": 0,
      "outputs": []
    },
    {
      "cell_type": "markdown",
      "metadata": {
        "button": false,
        "deletable": true,
        "new_sheet": false,
        "run_control": {
          "read_only": false
        },
        "id": "ECY-yPzG7LJm",
        "colab_type": "text"
      },
      "source": [
        "Make the cuisine names consistent."
      ]
    },
    {
      "cell_type": "code",
      "metadata": {
        "button": false,
        "deletable": true,
        "new_sheet": false,
        "run_control": {
          "read_only": false
        },
        "id": "qT-QsvDS7LJn",
        "colab_type": "code",
        "colab": {}
      },
      "source": [
        "recipes.loc[recipes[\"cuisine\"] == \"austria\", \"cuisine\"] = \"austrian\"\n",
        "recipes.loc[recipes[\"cuisine\"] == \"belgium\", \"cuisine\"] = \"belgian\"\n",
        "recipes.loc[recipes[\"cuisine\"] == \"china\", \"cuisine\"] = \"chinese\"\n",
        "recipes.loc[recipes[\"cuisine\"] == \"canada\", \"cuisine\"] = \"canadian\"\n",
        "recipes.loc[recipes[\"cuisine\"] == \"netherlands\", \"cuisine\"] = \"dutch\"\n",
        "recipes.loc[recipes[\"cuisine\"] == \"france\", \"cuisine\"] = \"french\"\n",
        "recipes.loc[recipes[\"cuisine\"] == \"germany\", \"cuisine\"] = \"german\"\n",
        "recipes.loc[recipes[\"cuisine\"] == \"india\", \"cuisine\"] = \"indian\"\n",
        "recipes.loc[recipes[\"cuisine\"] == \"indonesia\", \"cuisine\"] = \"indonesian\"\n",
        "recipes.loc[recipes[\"cuisine\"] == \"iran\", \"cuisine\"] = \"iranian\"\n",
        "recipes.loc[recipes[\"cuisine\"] == \"italy\", \"cuisine\"] = \"italian\"\n",
        "recipes.loc[recipes[\"cuisine\"] == \"japan\", \"cuisine\"] = \"japanese\"\n",
        "recipes.loc[recipes[\"cuisine\"] == \"israel\", \"cuisine\"] = \"jewish\"\n",
        "recipes.loc[recipes[\"cuisine\"] == \"korea\", \"cuisine\"] = \"korean\"\n",
        "recipes.loc[recipes[\"cuisine\"] == \"lebanon\", \"cuisine\"] = \"lebanese\"\n",
        "recipes.loc[recipes[\"cuisine\"] == \"malaysia\", \"cuisine\"] = \"malaysian\"\n",
        "recipes.loc[recipes[\"cuisine\"] == \"mexico\", \"cuisine\"] = \"mexican\"\n",
        "recipes.loc[recipes[\"cuisine\"] == \"pakistan\", \"cuisine\"] = \"pakistani\"\n",
        "recipes.loc[recipes[\"cuisine\"] == \"philippines\", \"cuisine\"] = \"philippine\"\n",
        "recipes.loc[recipes[\"cuisine\"] == \"scandinavia\", \"cuisine\"] = \"scandinavian\"\n",
        "recipes.loc[recipes[\"cuisine\"] == \"spain\", \"cuisine\"] = \"spanish_portuguese\"\n",
        "recipes.loc[recipes[\"cuisine\"] == \"portugal\", \"cuisine\"] = \"spanish_portuguese\"\n",
        "recipes.loc[recipes[\"cuisine\"] == \"switzerland\", \"cuisine\"] = \"swiss\"\n",
        "recipes.loc[recipes[\"cuisine\"] == \"thailand\", \"cuisine\"] = \"thai\"\n",
        "recipes.loc[recipes[\"cuisine\"] == \"turkey\", \"cuisine\"] = \"turkish\"\n",
        "recipes.loc[recipes[\"cuisine\"] == \"vietnam\", \"cuisine\"] = \"vietnamese\"\n",
        "recipes.loc[recipes[\"cuisine\"] == \"uk-and-ireland\", \"cuisine\"] = \"uk-and-irish\"\n",
        "recipes.loc[recipes[\"cuisine\"] == \"irish\", \"cuisine\"] = \"uk-and-irish\"\n",
        "\n",
        "recipes"
      ],
      "execution_count": 0,
      "outputs": []
    },
    {
      "cell_type": "markdown",
      "metadata": {
        "button": false,
        "deletable": true,
        "new_sheet": false,
        "run_control": {
          "read_only": false
        },
        "id": "b3ry_3QR7LJr",
        "colab_type": "text"
      },
      "source": [
        "Remove cuisines with < 50 recipes."
      ]
    },
    {
      "cell_type": "code",
      "metadata": {
        "button": false,
        "deletable": true,
        "new_sheet": false,
        "run_control": {
          "read_only": false
        },
        "id": "zTstZvF47LJs",
        "colab_type": "code",
        "colab": {}
      },
      "source": [
        "# get list of cuisines to keep\n",
        "recipes_counts = recipes[\"cuisine\"].value_counts()\n",
        "cuisines_indices = recipes_counts > 50\n",
        "\n",
        "cuisines_to_keep = list(np.array(recipes_counts.index.values)[np.array(cuisines_indices)])"
      ],
      "execution_count": 0,
      "outputs": []
    },
    {
      "cell_type": "code",
      "metadata": {
        "button": false,
        "deletable": true,
        "new_sheet": false,
        "run_control": {
          "read_only": false
        },
        "id": "JkMOMA4Y7LJx",
        "colab_type": "code",
        "colab": {}
      },
      "source": [
        "rows_before = recipes.shape[0] # number of rows of original dataframe\n",
        "print(\"Number of rows of original dataframe is {}.\".format(rows_before))\n",
        "\n",
        "recipes = recipes.loc[recipes['cuisine'].isin(cuisines_to_keep)]\n",
        "\n",
        "rows_after = recipes.shape[0] # number of rows of processed dataframe\n",
        "print(\"Number of rows of processed dataframe is {}.\".format(rows_after))\n",
        "\n",
        "print(\"{} rows removed!\".format(rows_before - rows_after))"
      ],
      "execution_count": 0,
      "outputs": []
    },
    {
      "cell_type": "markdown",
      "metadata": {
        "button": false,
        "deletable": true,
        "new_sheet": false,
        "run_control": {
          "read_only": false
        },
        "id": "I4UiYk5Y7LJ2",
        "colab_type": "text"
      },
      "source": [
        "Convert all Yes's to 1's and the No's to 0's"
      ]
    },
    {
      "cell_type": "code",
      "metadata": {
        "button": false,
        "deletable": true,
        "new_sheet": false,
        "run_control": {
          "read_only": false
        },
        "id": "Ol6UMWfO7LJ4",
        "colab_type": "code",
        "colab": {}
      },
      "source": [
        "recipes = recipes.replace(to_replace=\"Yes\", value=1)\n",
        "recipes = recipes.replace(to_replace=\"No\", value=0)"
      ],
      "execution_count": 0,
      "outputs": []
    },
    {
      "cell_type": "markdown",
      "metadata": {
        "button": false,
        "deletable": true,
        "new_sheet": false,
        "run_control": {
          "read_only": false
        },
        "id": "jytew7AT7LJ7",
        "colab_type": "text"
      },
      "source": [
        "#### Let's analyze the data a little more in order to learn the data better and note any interesting preliminary observations."
      ]
    },
    {
      "cell_type": "markdown",
      "metadata": {
        "button": false,
        "deletable": true,
        "new_sheet": false,
        "run_control": {
          "read_only": false
        },
        "id": "ok-ZQNSx7LJ8",
        "colab_type": "text"
      },
      "source": [
        "Run the following cell to get the recipes that contain **rice** *and* **soy** *and* **wasabi** *and* **seaweed**."
      ]
    },
    {
      "cell_type": "code",
      "metadata": {
        "button": false,
        "deletable": true,
        "new_sheet": false,
        "run_control": {
          "read_only": false
        },
        "id": "8Ty4dJQ_7LJ9",
        "colab_type": "code",
        "colab": {}
      },
      "source": [
        "recipes.head()"
      ],
      "execution_count": 0,
      "outputs": []
    },
    {
      "cell_type": "code",
      "metadata": {
        "button": false,
        "deletable": true,
        "new_sheet": false,
        "run_control": {
          "read_only": false
        },
        "id": "cueKFkNs7LKB",
        "colab_type": "code",
        "colab": {}
      },
      "source": [
        "check_recipes = recipes.loc[\n",
        "    (recipes[\"rice\"] == 1) &\n",
        "    (recipes[\"soy_sauce\"] == 1) &\n",
        "    (recipes[\"wasabi\"] == 1) &\n",
        "    (recipes[\"seaweed\"] == 1)\n",
        "]\n",
        "\n",
        "check_recipes"
      ],
      "execution_count": 0,
      "outputs": []
    },
    {
      "cell_type": "markdown",
      "metadata": {
        "button": false,
        "deletable": true,
        "new_sheet": false,
        "run_control": {
          "read_only": false
        },
        "id": "SWg3LJDJ7LKE",
        "colab_type": "text"
      },
      "source": [
        "Based on the results of the above code, can we classify all recipes that contain **rice** *and* **soy** *and* **wasabi** *and* **seaweed** as **Japanese** recipes? Why?"
      ]
    },
    {
      "cell_type": "markdown",
      "metadata": {
        "button": false,
        "deletable": true,
        "new_sheet": false,
        "run_control": {
          "read_only": false
        },
        "id": "zAlf6Tei7LKE",
        "colab_type": "raw"
      },
      "source": [
        "Your Answer:"
      ]
    },
    {
      "cell_type": "markdown",
      "metadata": {
        "button": false,
        "deletable": true,
        "new_sheet": false,
        "run_control": {
          "read_only": false
        },
        "id": "kuJAnNjH7LKF",
        "colab_type": "text"
      },
      "source": [
        "Double-click __here__ for the solution.\n",
        "<!-- The correct answer is:\n",
        "No, because other recipes such as Asian and East_Asian recipes also contain these ingredients.\n",
        "-->"
      ]
    },
    {
      "cell_type": "markdown",
      "metadata": {
        "button": false,
        "deletable": true,
        "new_sheet": false,
        "run_control": {
          "read_only": false
        },
        "id": "x-LmvBys7LKG",
        "colab_type": "text"
      },
      "source": [
        "Let's count the ingredients across all recipes."
      ]
    },
    {
      "cell_type": "code",
      "metadata": {
        "button": false,
        "deletable": true,
        "new_sheet": false,
        "run_control": {
          "read_only": false
        },
        "scrolled": false,
        "id": "g7QsMiB57LKH",
        "colab_type": "code",
        "colab": {}
      },
      "source": [
        "# sum each column\n",
        "ing = recipes.iloc[:, 1:].sum(axis=0)"
      ],
      "execution_count": 0,
      "outputs": []
    },
    {
      "cell_type": "code",
      "metadata": {
        "button": false,
        "deletable": true,
        "new_sheet": false,
        "run_control": {
          "read_only": false
        },
        "id": "NYA2Ff6Q7LKJ",
        "colab_type": "code",
        "colab": {}
      },
      "source": [
        "# define each column as a pandas series\n",
        "ingredient = pd.Series(ing.index.values, index = np.arange(len(ing)))\n",
        "count = pd.Series(list(ing), index = np.arange(len(ing)))\n",
        "\n",
        "# create the dataframe\n",
        "ing_df = pd.DataFrame(dict(ingredient = ingredient, count = count))\n",
        "ing_df = ing_df[[\"ingredient\", \"count\"]]\n",
        "print(ing_df.to_string())"
      ],
      "execution_count": 0,
      "outputs": []
    },
    {
      "cell_type": "markdown",
      "metadata": {
        "button": false,
        "deletable": true,
        "new_sheet": false,
        "run_control": {
          "read_only": false
        },
        "id": "6Ulzxq_17LKL",
        "colab_type": "text"
      },
      "source": [
        "Now we have a dataframe of ingredients and their total counts across all recipes. Let's sort this dataframe in descending order."
      ]
    },
    {
      "cell_type": "code",
      "metadata": {
        "button": false,
        "deletable": true,
        "new_sheet": false,
        "run_control": {
          "read_only": false
        },
        "id": "SDpeapFG7LKQ",
        "colab_type": "code",
        "colab": {}
      },
      "source": [
        "ing_df.sort_values([\"count\"], ascending=False, inplace=True)\n",
        "ing_df.reset_index(inplace=True, drop=True)\n",
        "\n",
        "print(ing_df)"
      ],
      "execution_count": 0,
      "outputs": []
    },
    {
      "cell_type": "markdown",
      "metadata": {
        "button": false,
        "deletable": true,
        "new_sheet": false,
        "run_control": {
          "read_only": false
        },
        "id": "hBC-7iIE7LKT",
        "colab_type": "text"
      },
      "source": [
        "#### What are the 3 most popular ingredients?"
      ]
    },
    {
      "cell_type": "markdown",
      "metadata": {
        "button": false,
        "deletable": true,
        "new_sheet": false,
        "run_control": {
          "read_only": false
        },
        "id": "HdiUkP117LKT",
        "colab_type": "raw"
      },
      "source": [
        "Your Answer:\n",
        "1.\n",
        "\n",
        "2.\n",
        "\n",
        "3."
      ]
    },
    {
      "cell_type": "markdown",
      "metadata": {
        "button": false,
        "deletable": true,
        "new_sheet": false,
        "run_control": {
          "read_only": false
        },
        "id": "aJMeJ6BD7LKU",
        "colab_type": "text"
      },
      "source": [
        "Double-click __here__ for the solution.\n",
        "<!-- The correct answer is:\n",
        "// 1. Egg with 21,025 occurrences. \n",
        "// 2. Wheat with 20,781 occurrences. \n",
        "// 3. Butter with 20,719 occurrences.\n",
        "-->"
      ]
    },
    {
      "cell_type": "markdown",
      "metadata": {
        "button": false,
        "deletable": true,
        "new_sheet": false,
        "run_control": {
          "read_only": false
        },
        "id": "mIQQn17C7LKV",
        "colab_type": "text"
      },
      "source": [
        "However, note that there is a problem with the above table. There are ~40,000 American recipes in our dataset, which means that the data is biased towards American ingredients."
      ]
    },
    {
      "cell_type": "markdown",
      "metadata": {
        "button": false,
        "deletable": true,
        "new_sheet": false,
        "run_control": {
          "read_only": false
        },
        "id": "dJ3fhVqu7LKW",
        "colab_type": "text"
      },
      "source": [
        "**Therefore**, let's compute a more objective summary of the ingredients by looking at the ingredients per cuisine."
      ]
    },
    {
      "cell_type": "markdown",
      "metadata": {
        "button": false,
        "deletable": true,
        "new_sheet": false,
        "run_control": {
          "read_only": false
        },
        "id": "XDr4QDyD7LKW",
        "colab_type": "text"
      },
      "source": [
        "#### Let's create a *profile* for each cuisine.\n",
        "\n",
        "In other words, let's try to find out what ingredients Chinese people typically use, and what is **Canadian** food for example."
      ]
    },
    {
      "cell_type": "code",
      "metadata": {
        "button": false,
        "deletable": true,
        "new_sheet": false,
        "run_control": {
          "read_only": false
        },
        "id": "QzcE88CQ7LKX",
        "colab_type": "code",
        "colab": {}
      },
      "source": [
        "cuisines = recipes.groupby(\"cuisine\").mean()\n",
        "cuisines.head()"
      ],
      "execution_count": 0,
      "outputs": []
    },
    {
      "cell_type": "markdown",
      "metadata": {
        "button": false,
        "deletable": true,
        "new_sheet": false,
        "run_control": {
          "read_only": false
        },
        "id": "a196aKu47LKZ",
        "colab_type": "text"
      },
      "source": [
        "As shown above, we have just created a dataframe where each row is a cuisine and each column (except for the first column) is an ingredient, and the row values represent the percentage of each ingredient in the corresponding cuisine.\n",
        "\n",
        "**For example**:\n",
        "\n",
        "* *almond* is present across 15.65% of all of the **African** recipes.\n",
        "* *butter* is present across 38.11% of all of the **Canadian** recipes."
      ]
    },
    {
      "cell_type": "markdown",
      "metadata": {
        "button": false,
        "deletable": true,
        "new_sheet": false,
        "run_control": {
          "read_only": false
        },
        "id": "fQTLgb--7LKb",
        "colab_type": "text"
      },
      "source": [
        "Let's print out the profile for each cuisine by displaying the top four ingredients in each cuisine."
      ]
    },
    {
      "cell_type": "code",
      "metadata": {
        "button": false,
        "deletable": true,
        "new_sheet": false,
        "run_control": {
          "read_only": false
        },
        "id": "0YTHN0fF7LKb",
        "colab_type": "code",
        "colab": {}
      },
      "source": [
        "num_ingredients = 4 # define number of top ingredients to print\n",
        "\n",
        "# define a function that prints the top ingredients for each cuisine\n",
        "def print_top_ingredients(row):\n",
        "    print(row.name.upper())\n",
        "    row_sorted = row.sort_values(ascending=False)*100\n",
        "    top_ingredients = list(row_sorted.index.values)[0:num_ingredients]\n",
        "    row_sorted = list(row_sorted)[0:num_ingredients]\n",
        "\n",
        "    for ind, ingredient in enumerate(top_ingredients):\n",
        "        print(\"%s (%d%%)\" % (ingredient, row_sorted[ind]), end=' ')\n",
        "    print(\"\\n\")\n",
        "\n",
        "# apply function to cuisines dataframe\n",
        "create_cuisines_profiles = cuisines.apply(print_top_ingredients, axis=1)"
      ],
      "execution_count": 0,
      "outputs": []
    },
    {
      "cell_type": "markdown",
      "metadata": {
        "button": false,
        "deletable": true,
        "new_sheet": false,
        "run_control": {
          "read_only": false
        },
        "id": "nRlTCugt7LKe",
        "colab_type": "text"
      },
      "source": [
        "At this point, we feel that we have understood the data well and the data is ready and is in the right format for modeling!\n",
        "\n",
        "-----------"
      ]
    },
    {
      "cell_type": "markdown",
      "metadata": {
        "button": false,
        "deletable": true,
        "new_sheet": false,
        "run_control": {
          "read_only": false
        },
        "id": "ieG2e2h-7LKf",
        "colab_type": "text"
      },
      "source": [
        "### Thank you for completing this lab!\n",
        "\n",
        "This notebook was created by [Alex Aklson](https://www.linkedin.com/in/aklson/). We hope you found this lab session interesting. Feel free to contact us if you have any questions!"
      ]
    },
    {
      "cell_type": "markdown",
      "metadata": {
        "button": false,
        "deletable": true,
        "new_sheet": false,
        "run_control": {
          "read_only": false
        },
        "id": "1VddGSIj7LKf",
        "colab_type": "text"
      },
      "source": [
        "This notebook is part of a course on **Coursera** called *Data Science Methodology*. If you accessed this notebook outside the course, you can take this course, online by clicking [here](https://cocl.us/DS0103EN_Coursera_LAB3)."
      ]
    },
    {
      "cell_type": "markdown",
      "metadata": {
        "button": false,
        "deletable": true,
        "new_sheet": false,
        "run_control": {
          "read_only": false
        },
        "id": "3bPyKmjS7LKg",
        "colab_type": "text"
      },
      "source": [
        "<hr>\n",
        "\n",
        "Copyright &copy; 2019 [Cognitive Class](https://cognitiveclass.ai/?utm_source=bducopyrightlink&utm_medium=dswb&utm_campaign=bdu). This notebook and its source code are released under the terms of the [MIT License](https://bigdatauniversity.com/mit-license/)."
      ]
    }
  ]
}
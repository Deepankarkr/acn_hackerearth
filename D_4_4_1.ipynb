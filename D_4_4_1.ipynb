{
  "nbformat": 4,
  "nbformat_minor": 0,
  "metadata": {
    "colab": {
      "name": "D 4  4-1",
      "version": "0.3.2",
      "provenance": [],
      "include_colab_link": true
    },
    "language_info": {
      "codemirror_mode": {
        "name": "ipython",
        "version": 3
      },
      "file_extension": ".py",
      "mimetype": "text/x-python",
      "name": "python",
      "nbconvert_exporter": "python",
      "pygments_lexer": "ipython3",
      "version": "3.6.8"
    },
    "kernelspec": {
      "display_name": "Python 3",
      "language": "python",
      "name": "python3"
    }
  },
  "cells": [
    {
      "cell_type": "markdown",
      "metadata": {
        "id": "view-in-github",
        "colab_type": "text"
      },
      "source": [
        "<a href=\"https://colab.research.google.com/github/Deepankarkr/Code-library/blob/master/D_4_4_1.ipynb\" target=\"_parent\"><img src=\"https://colab.research.google.com/assets/colab-badge.svg\" alt=\"Open In Colab\"/></a>"
      ]
    },
    {
      "cell_type": "markdown",
      "metadata": {
        "button": false,
        "deletable": true,
        "new_sheet": false,
        "run_control": {
          "read_only": false
        },
        "id": "MjSLF0ki8F6F",
        "colab_type": "text"
      },
      "source": [
        "# From Modeling to Evaluation"
      ]
    },
    {
      "cell_type": "markdown",
      "metadata": {
        "button": false,
        "deletable": true,
        "new_sheet": false,
        "run_control": {
          "read_only": false
        },
        "id": "WisREyPc8F6M",
        "colab_type": "text"
      },
      "source": [
        "## Introduction\n",
        "\n",
        "In this lab, we will continue learning about the data science methodology, and focus on the **Modeling** and **Evaluation** stages.\n",
        "\n",
        "------------"
      ]
    },
    {
      "cell_type": "markdown",
      "metadata": {
        "button": false,
        "deletable": true,
        "new_sheet": false,
        "run_control": {
          "read_only": false
        },
        "id": "6KRhK9fg8F6P",
        "colab_type": "text"
      },
      "source": [
        "## Table of Contents\n",
        "\n",
        "1. Recap\n",
        "2. Data Modeling\n",
        "3. Model Evaluation\n"
      ]
    },
    {
      "cell_type": "markdown",
      "metadata": {
        "button": false,
        "deletable": true,
        "new_sheet": false,
        "run_control": {
          "read_only": false
        },
        "id": "CWcqwXBh8F6Q",
        "colab_type": "text"
      },
      "source": [
        "# Recap\n",
        "\n",
        "In Lab **From Understanding to Preparation**, we explored the data and prepared it for modeling."
      ]
    },
    {
      "cell_type": "markdown",
      "metadata": {
        "button": false,
        "deletable": true,
        "new_sheet": false,
        "run_control": {
          "read_only": false
        },
        "id": "gNdIVjw98F6R",
        "colab_type": "text"
      },
      "source": [
        "The data was compiled by a researcher named Yong-Yeol Ahn, who scraped tens of thousands of food recipes (cuisines and ingredients) from three different websites, namely:"
      ]
    },
    {
      "cell_type": "markdown",
      "metadata": {
        "button": false,
        "deletable": true,
        "new_sheet": false,
        "run_control": {
          "read_only": false
        },
        "id": "ZqVjcoI88F6R",
        "colab_type": "text"
      },
      "source": [
        "<img src=\"https://s3-api.us-geo.objectstorage.softlayer.net/cf-courses-data/CognitiveClass/DS0103EN/labs/images/lab4_fig1_allrecipes.png\" >\n",
        "\n",
        "www.allrecipes.com\n",
        "\n",
        "<img src=\"https://s3-api.us-geo.objectstorage.softlayer.net/cf-courses-data/CognitiveClass/DS0103EN/labs/images/lab4_fig2_epicurious.png\" >\n",
        "\n",
        "www.epicurious.com\n",
        "\n",
        "<img src=\"https://s3-api.us-geo.objectstorage.softlayer.net/cf-courses-data/CognitiveClass/DS0103EN/labs/images/lab4_fig3_menupan.png\" >\n",
        "\n",
        "www.menupan.com"
      ]
    },
    {
      "cell_type": "markdown",
      "metadata": {
        "button": false,
        "deletable": true,
        "new_sheet": false,
        "run_control": {
          "read_only": false
        },
        "id": "5nCP5f0d8F6S",
        "colab_type": "text"
      },
      "source": [
        "For more information on Yong-Yeol Ahn and his research, you can read his paper on [Flavor Network and the Principles of Food Pairing](http://yongyeol.com/papers/ahn-flavornet-2011.pdf)."
      ]
    },
    {
      "cell_type": "markdown",
      "metadata": {
        "button": false,
        "deletable": true,
        "new_sheet": false,
        "run_control": {
          "read_only": false
        },
        "id": "qjpLatbM8F6T",
        "colab_type": "text"
      },
      "source": [
        "<strong> Important note:</strong> Please note that you are not expected to know how to program in Python. This lab is meant to illustrate the stages of modeling and evaluation of the data science methodology, so it is totally fine if you do not understand the individual lines of code. We have a full course on programming in Python, <a href=\"http://cocl.us/PY0101EN_DS0103EN_LAB4_PYTHON_Coursera\"><strong>Python for Data Science</strong></a>, which is also offered on Coursera. So make sure to complete the Python course if you are interested in learning how to program in Python."
      ]
    },
    {
      "cell_type": "markdown",
      "metadata": {
        "button": false,
        "deletable": true,
        "new_sheet": false,
        "run_control": {
          "read_only": false
        },
        "id": "VV0d7YFh8F6U",
        "colab_type": "text"
      },
      "source": [
        "### Using this notebook:\n",
        "\n",
        "To run any of the following cells of code, you can type **Shift + Enter** to excute the code in a cell."
      ]
    },
    {
      "cell_type": "markdown",
      "metadata": {
        "button": false,
        "deletable": true,
        "new_sheet": false,
        "run_control": {
          "read_only": false
        },
        "id": "ekdMTyJh8F6V",
        "colab_type": "text"
      },
      "source": [
        "Download the library and dependencies that we will need to run this lab."
      ]
    },
    {
      "cell_type": "code",
      "metadata": {
        "button": false,
        "deletable": true,
        "new_sheet": false,
        "run_control": {
          "read_only": false
        },
        "id": "GbHt_6zv8F6W",
        "colab_type": "code",
        "colab": {}
      },
      "source": [
        "import pandas as pd # import library to read data into dataframe\n",
        "pd.set_option(\"display.max_columns\", None)\n",
        "import numpy as np # import numpy library\n",
        "import re # import library for regular expression\n",
        "import random # library for random number generation"
      ],
      "execution_count": 0,
      "outputs": []
    },
    {
      "cell_type": "markdown",
      "metadata": {
        "button": false,
        "deletable": true,
        "new_sheet": false,
        "run_control": {
          "read_only": false
        },
        "id": "uZnePzyp8F6b",
        "colab_type": "text"
      },
      "source": [
        "We already placed the data on an IBM server for your convenience, so let's download it from server and read it into a dataframe called **recipes**."
      ]
    },
    {
      "cell_type": "code",
      "metadata": {
        "button": false,
        "deletable": true,
        "new_sheet": false,
        "run_control": {
          "read_only": false
        },
        "id": "Fzu3iMeH8F6c",
        "colab_type": "code",
        "colab": {}
      },
      "source": [
        "recipes = pd.read_csv(\"https://s3-api.us-geo.objectstorage.softlayer.net/cf-courses-data/CognitiveClass/DS0103EN/labs/data/recipes.csv\")\n",
        "\n",
        "print(\"Data read into dataframe!\") # takes about 30 seconds"
      ],
      "execution_count": 0,
      "outputs": []
    },
    {
      "cell_type": "markdown",
      "metadata": {
        "button": false,
        "deletable": true,
        "new_sheet": false,
        "run_control": {
          "read_only": false
        },
        "id": "jOp-Ppuj8F6h",
        "colab_type": "text"
      },
      "source": [
        "We will repeat the preprocessing steps that we implemented in Lab **From Understanding to Preparation** in order to prepare the data for modeling. For more details on preparing the data, please refer to Lab **From Understanding to Preparation**."
      ]
    },
    {
      "cell_type": "code",
      "metadata": {
        "button": false,
        "deletable": true,
        "new_sheet": false,
        "run_control": {
          "read_only": false
        },
        "id": "jf0denGg8F6i",
        "colab_type": "code",
        "colab": {}
      },
      "source": [
        "# fix name of the column displaying the cuisine\n",
        "column_names = recipes.columns.values\n",
        "column_names[0] = \"cuisine\"\n",
        "recipes.columns = column_names\n",
        "\n",
        "# convert cuisine names to lower case\n",
        "recipes[\"cuisine\"] = recipes[\"cuisine\"].str.lower()\n",
        "\n",
        "# make the cuisine names consistent\n",
        "recipes.loc[recipes[\"cuisine\"] == \"austria\", \"cuisine\"] = \"austrian\"\n",
        "recipes.loc[recipes[\"cuisine\"] == \"belgium\", \"cuisine\"] = \"belgian\"\n",
        "recipes.loc[recipes[\"cuisine\"] == \"china\", \"cuisine\"] = \"chinese\"\n",
        "recipes.loc[recipes[\"cuisine\"] == \"canada\", \"cuisine\"] = \"canadian\"\n",
        "recipes.loc[recipes[\"cuisine\"] == \"netherlands\", \"cuisine\"] = \"dutch\"\n",
        "recipes.loc[recipes[\"cuisine\"] == \"france\", \"cuisine\"] = \"french\"\n",
        "recipes.loc[recipes[\"cuisine\"] == \"germany\", \"cuisine\"] = \"german\"\n",
        "recipes.loc[recipes[\"cuisine\"] == \"india\", \"cuisine\"] = \"indian\"\n",
        "recipes.loc[recipes[\"cuisine\"] == \"indonesia\", \"cuisine\"] = \"indonesian\"\n",
        "recipes.loc[recipes[\"cuisine\"] == \"iran\", \"cuisine\"] = \"iranian\"\n",
        "recipes.loc[recipes[\"cuisine\"] == \"italy\", \"cuisine\"] = \"italian\"\n",
        "recipes.loc[recipes[\"cuisine\"] == \"japan\", \"cuisine\"] = \"japanese\"\n",
        "recipes.loc[recipes[\"cuisine\"] == \"israel\", \"cuisine\"] = \"jewish\"\n",
        "recipes.loc[recipes[\"cuisine\"] == \"korea\", \"cuisine\"] = \"korean\"\n",
        "recipes.loc[recipes[\"cuisine\"] == \"lebanon\", \"cuisine\"] = \"lebanese\"\n",
        "recipes.loc[recipes[\"cuisine\"] == \"malaysia\", \"cuisine\"] = \"malaysian\"\n",
        "recipes.loc[recipes[\"cuisine\"] == \"mexico\", \"cuisine\"] = \"mexican\"\n",
        "recipes.loc[recipes[\"cuisine\"] == \"pakistan\", \"cuisine\"] = \"pakistani\"\n",
        "recipes.loc[recipes[\"cuisine\"] == \"philippines\", \"cuisine\"] = \"philippine\"\n",
        "recipes.loc[recipes[\"cuisine\"] == \"scandinavia\", \"cuisine\"] = \"scandinavian\"\n",
        "recipes.loc[recipes[\"cuisine\"] == \"spain\", \"cuisine\"] = \"spanish_portuguese\"\n",
        "recipes.loc[recipes[\"cuisine\"] == \"portugal\", \"cuisine\"] = \"spanish_portuguese\"\n",
        "recipes.loc[recipes[\"cuisine\"] == \"switzerland\", \"cuisine\"] = \"swiss\"\n",
        "recipes.loc[recipes[\"cuisine\"] == \"thailand\", \"cuisine\"] = \"thai\"\n",
        "recipes.loc[recipes[\"cuisine\"] == \"turkey\", \"cuisine\"] = \"turkish\"\n",
        "recipes.loc[recipes[\"cuisine\"] == \"vietnam\", \"cuisine\"] = \"vietnamese\"\n",
        "recipes.loc[recipes[\"cuisine\"] == \"uk-and-ireland\", \"cuisine\"] = \"uk-and-irish\"\n",
        "recipes.loc[recipes[\"cuisine\"] == \"irish\", \"cuisine\"] = \"uk-and-irish\"\n",
        "\n",
        "\n",
        "# remove data for cuisines with < 50 recipes:\n",
        "recipes_counts = recipes[\"cuisine\"].value_counts()\n",
        "cuisines_indices = recipes_counts > 50\n",
        "\n",
        "cuisines_to_keep = list(np.array(recipes_counts.index.values)[np.array(cuisines_indices)])\n",
        "recipes = recipes.loc[recipes[\"cuisine\"].isin(cuisines_to_keep)]\n",
        "\n",
        "# convert all Yes's to 1's and the No's to 0's\n",
        "recipes = recipes.replace(to_replace=\"Yes\", value=1)\n",
        "recipes = recipes.replace(to_replace=\"No\", value=0)"
      ],
      "execution_count": 0,
      "outputs": []
    },
    {
      "cell_type": "markdown",
      "metadata": {
        "button": false,
        "deletable": true,
        "new_sheet": false,
        "run_control": {
          "read_only": false
        },
        "id": "ft55aleu8F6l",
        "colab_type": "text"
      },
      "source": [
        "<hr>"
      ]
    },
    {
      "cell_type": "markdown",
      "metadata": {
        "button": false,
        "deletable": true,
        "new_sheet": false,
        "run_control": {
          "read_only": false
        },
        "id": "0oW1MY048F6m",
        "colab_type": "text"
      },
      "source": [
        "# Data Modeling <a id=\"2\"></a>"
      ]
    },
    {
      "cell_type": "markdown",
      "metadata": {
        "button": false,
        "deletable": true,
        "new_sheet": false,
        "run_control": {
          "read_only": false
        },
        "id": "pxqOfu5b8F6m",
        "colab_type": "text"
      },
      "source": [
        "<img src=\"https://s3-api.us-geo.objectstorage.softlayer.net/cf-courses-data/CognitiveClass/DS0103EN/labs/images/lab4_fig4_flowchart_data_modeling.png\" >"
      ]
    },
    {
      "cell_type": "markdown",
      "metadata": {
        "button": false,
        "deletable": true,
        "new_sheet": false,
        "run_control": {
          "read_only": false
        },
        "id": "Stdt8vnE8F6n",
        "colab_type": "text"
      },
      "source": [
        "Download and install more libraries and dependies to build decision trees."
      ]
    },
    {
      "cell_type": "code",
      "metadata": {
        "button": false,
        "deletable": true,
        "new_sheet": false,
        "run_control": {
          "read_only": false
        },
        "id": "BzWHzvwF8F6o",
        "colab_type": "code",
        "colab": {}
      },
      "source": [
        "# import decision trees scikit-learn libraries\n",
        "%matplotlib inline\n",
        "from sklearn import tree\n",
        "from sklearn.metrics import accuracy_score, confusion_matrix\n",
        "\n",
        "import matplotlib.pyplot as plt\n",
        "\n",
        "!conda install python-graphviz --yes\n",
        "import graphviz\n",
        "\n",
        "from sklearn.tree import export_graphviz\n",
        "\n",
        "import itertools"
      ],
      "execution_count": 0,
      "outputs": []
    },
    {
      "cell_type": "markdown",
      "metadata": {
        "button": false,
        "deletable": true,
        "new_sheet": false,
        "run_control": {
          "read_only": false
        },
        "id": "Ij9b2Lgv8F6s",
        "colab_type": "text"
      },
      "source": [
        "Check the data again!"
      ]
    },
    {
      "cell_type": "code",
      "metadata": {
        "button": false,
        "deletable": true,
        "new_sheet": false,
        "run_control": {
          "read_only": false
        },
        "id": "lsJOV8cy8F6t",
        "colab_type": "code",
        "colab": {}
      },
      "source": [
        "recipes.head()"
      ],
      "execution_count": 0,
      "outputs": []
    },
    {
      "cell_type": "markdown",
      "metadata": {
        "button": false,
        "deletable": true,
        "new_sheet": false,
        "run_control": {
          "read_only": false
        },
        "id": "AtcJuZir8F6w",
        "colab_type": "text"
      },
      "source": [
        "## [bamboo_tree] Only Asian and Indian Cuisines\n",
        "\n",
        "Here, we are creating a decision tree for the recipes for just some of the Asian (Korean, Japanese, Chinese, Thai) and Indian cuisines. The reason for this is because the decision tree does not run well when the data is biased towards one cuisine, in this case American cuisines. One option is to exclude the American cuisines from our analysis or just build decision trees for different subsets of the data. Let's go with the latter solution."
      ]
    },
    {
      "cell_type": "markdown",
      "metadata": {
        "button": false,
        "deletable": true,
        "new_sheet": false,
        "run_control": {
          "read_only": false
        },
        "id": "VgE7laGA8F6x",
        "colab_type": "text"
      },
      "source": [
        "Let's build our decision tree using the data pertaining to the Asian and Indian cuisines and name our decision tree *bamboo_tree*."
      ]
    },
    {
      "cell_type": "code",
      "metadata": {
        "button": false,
        "deletable": true,
        "new_sheet": false,
        "run_control": {
          "read_only": false
        },
        "id": "mrLlLnQF8F6y",
        "colab_type": "code",
        "colab": {}
      },
      "source": [
        "# select subset of cuisines\n",
        "asian_indian_recipes = recipes[recipes.cuisine.isin([\"korean\", \"japanese\", \"chinese\", \"thai\", \"indian\"])]\n",
        "cuisines = asian_indian_recipes[\"cuisine\"]\n",
        "ingredients = asian_indian_recipes.iloc[:,1:]\n",
        "\n",
        "bamboo_tree = tree.DecisionTreeClassifier(max_depth=3)\n",
        "bamboo_tree.fit(ingredients, cuisines)\n",
        "\n",
        "print(\"Decision tree model saved to bamboo_tree!\")"
      ],
      "execution_count": 0,
      "outputs": []
    },
    {
      "cell_type": "markdown",
      "metadata": {
        "button": false,
        "deletable": true,
        "new_sheet": false,
        "run_control": {
          "read_only": false
        },
        "id": "EWiZ98pK8F63",
        "colab_type": "text"
      },
      "source": [
        "Let's plot the decision tree and examine how it looks like."
      ]
    },
    {
      "cell_type": "code",
      "metadata": {
        "button": false,
        "deletable": true,
        "new_sheet": false,
        "run_control": {
          "read_only": false
        },
        "id": "tyfxpgeN8F65",
        "colab_type": "code",
        "colab": {}
      },
      "source": [
        "export_graphviz(bamboo_tree,\n",
        "                feature_names=list(ingredients.columns.values),\n",
        "                out_file=\"bamboo_tree.dot\",\n",
        "                class_names=np.unique(cuisines),\n",
        "                filled=True,\n",
        "                node_ids=True,\n",
        "                special_characters=True,\n",
        "                impurity=False,\n",
        "                label=\"all\",\n",
        "                leaves_parallel=False)\n",
        "\n",
        "with open(\"bamboo_tree.dot\") as bamboo_tree_image:\n",
        "    bamboo_tree_graph = bamboo_tree_image.read()\n",
        "graphviz.Source(bamboo_tree_graph)"
      ],
      "execution_count": 0,
      "outputs": []
    },
    {
      "cell_type": "markdown",
      "metadata": {
        "button": false,
        "deletable": true,
        "new_sheet": false,
        "run_control": {
          "read_only": false
        },
        "id": "_G2URYta8F69",
        "colab_type": "text"
      },
      "source": [
        "The decision tree learned:\n",
        "* If a recipe contains *cumin* and *fish* and **no** *yoghurt*, then it is most likely a **Thai** recipe.\n",
        "* If a recipe contains *cumin* but **no** *fish* and **no** *soy_sauce*, then it is most likely an **Indian** recipe."
      ]
    },
    {
      "cell_type": "markdown",
      "metadata": {
        "button": false,
        "deletable": true,
        "new_sheet": false,
        "run_control": {
          "read_only": false
        },
        "id": "hJ88gL6Y8F6-",
        "colab_type": "text"
      },
      "source": [
        "You can analyze the remaining branches of the tree to come up with similar rules for determining the cuisine of different recipes. "
      ]
    },
    {
      "cell_type": "markdown",
      "metadata": {
        "button": false,
        "deletable": true,
        "new_sheet": false,
        "run_control": {
          "read_only": false
        },
        "id": "YCy7zg668F6_",
        "colab_type": "text"
      },
      "source": [
        "Feel free to select another subset of cuisines and build a decision tree of their recipes. You can select some European cuisines and build a decision tree to explore the ingredients that differentiate them."
      ]
    },
    {
      "cell_type": "markdown",
      "metadata": {
        "button": false,
        "deletable": true,
        "new_sheet": false,
        "run_control": {
          "read_only": false
        },
        "id": "pf6DqkbA8F7A",
        "colab_type": "text"
      },
      "source": [
        "# Model Evaluation <a id=\"4\"></a>"
      ]
    },
    {
      "cell_type": "markdown",
      "metadata": {
        "button": false,
        "deletable": true,
        "new_sheet": false,
        "run_control": {
          "read_only": false
        },
        "id": "_7BfRXIa8F7A",
        "colab_type": "text"
      },
      "source": [
        "<img src=\"https://s3-api.us-geo.objectstorage.softlayer.net/cf-courses-data/CognitiveClass/DS0103EN/labs/images/lab4_fig5_flowchart_evaluation.png\" >"
      ]
    },
    {
      "cell_type": "markdown",
      "metadata": {
        "button": false,
        "deletable": true,
        "new_sheet": false,
        "run_control": {
          "read_only": false
        },
        "id": "0qqWad2X8F7B",
        "colab_type": "text"
      },
      "source": [
        "To evaluate our model of Asian and Indian cuisines, we will split our dataset into a training set and a test set. We will build the decision tree using the training set. Then, we will test the model on the test set and compare the cuisines that the model predicts to the actual cuisines. "
      ]
    },
    {
      "cell_type": "markdown",
      "metadata": {
        "button": false,
        "deletable": true,
        "new_sheet": false,
        "run_control": {
          "read_only": false
        },
        "id": "0zEWCmrw8F7C",
        "colab_type": "text"
      },
      "source": [
        "Let's first create a new dataframe using only the data pertaining to the Asian and the Indian cuisines, and let's call the new dataframe **bamboo**."
      ]
    },
    {
      "cell_type": "code",
      "metadata": {
        "button": false,
        "deletable": true,
        "new_sheet": false,
        "run_control": {
          "read_only": false
        },
        "id": "uLfjh-dz8F7D",
        "colab_type": "code",
        "colab": {}
      },
      "source": [
        "bamboo = recipes[recipes.cuisine.isin([\"korean\", \"japanese\", \"chinese\", \"thai\", \"indian\"])]"
      ],
      "execution_count": 0,
      "outputs": []
    },
    {
      "cell_type": "markdown",
      "metadata": {
        "button": false,
        "deletable": true,
        "new_sheet": false,
        "run_control": {
          "read_only": false
        },
        "id": "JowA_BSv8F7H",
        "colab_type": "text"
      },
      "source": [
        "Let's see how many recipes exist for each cuisine."
      ]
    },
    {
      "cell_type": "code",
      "metadata": {
        "button": false,
        "deletable": true,
        "new_sheet": false,
        "run_control": {
          "read_only": false
        },
        "id": "V6VoTTQ08F7J",
        "colab_type": "code",
        "colab": {}
      },
      "source": [
        "bamboo[\"cuisine\"].value_counts()"
      ],
      "execution_count": 0,
      "outputs": []
    },
    {
      "cell_type": "markdown",
      "metadata": {
        "button": false,
        "deletable": true,
        "new_sheet": false,
        "run_control": {
          "read_only": false
        },
        "id": "pYa-lUx98F7M",
        "colab_type": "text"
      },
      "source": [
        "Let's remove 30 recipes from each cuisine to use as the test set, and let's name this test set **bamboo_test**."
      ]
    },
    {
      "cell_type": "code",
      "metadata": {
        "button": false,
        "deletable": true,
        "new_sheet": false,
        "run_control": {
          "read_only": false
        },
        "id": "LrVtod-L8F7O",
        "colab_type": "code",
        "colab": {}
      },
      "source": [
        "# set sample size\n",
        "sample_n = 30"
      ],
      "execution_count": 0,
      "outputs": []
    },
    {
      "cell_type": "markdown",
      "metadata": {
        "button": false,
        "deletable": true,
        "new_sheet": false,
        "run_control": {
          "read_only": false
        },
        "id": "giGDj4sg8F7S",
        "colab_type": "text"
      },
      "source": [
        "Create a dataframe containing 30 recipes from each cuisine, selected randomly."
      ]
    },
    {
      "cell_type": "code",
      "metadata": {
        "button": false,
        "deletable": true,
        "new_sheet": false,
        "run_control": {
          "read_only": false
        },
        "id": "FG9UTDIZ8F7T",
        "colab_type": "code",
        "colab": {}
      },
      "source": [
        "# take 30 recipes from each cuisine\n",
        "random.seed(1234) # set random seed\n",
        "bamboo_test = bamboo.groupby(\"cuisine\", group_keys=False).apply(lambda x: x.sample(sample_n))\n",
        "\n",
        "bamboo_test_ingredients = bamboo_test.iloc[:,1:] # ingredients\n",
        "bamboo_test_cuisines = bamboo_test[\"cuisine\"] # corresponding cuisines or labels"
      ],
      "execution_count": 0,
      "outputs": []
    },
    {
      "cell_type": "markdown",
      "metadata": {
        "button": false,
        "deletable": true,
        "new_sheet": false,
        "run_control": {
          "read_only": false
        },
        "id": "4QkqFFcy8F7X",
        "colab_type": "text"
      },
      "source": [
        "Check that there are 30 recipes for each cuisine."
      ]
    },
    {
      "cell_type": "code",
      "metadata": {
        "button": false,
        "deletable": true,
        "new_sheet": false,
        "run_control": {
          "read_only": false
        },
        "id": "73NKe2SF8F7a",
        "colab_type": "code",
        "colab": {}
      },
      "source": [
        "# check that we have 30 recipes from each cuisine\n",
        "bamboo_test[\"cuisine\"].value_counts()"
      ],
      "execution_count": 0,
      "outputs": []
    },
    {
      "cell_type": "markdown",
      "metadata": {
        "button": false,
        "deletable": true,
        "new_sheet": false,
        "run_control": {
          "read_only": false
        },
        "id": "HjPdbXJh8F7d",
        "colab_type": "text"
      },
      "source": [
        "Next, let's create the training set by removing the test set from the **bamboo** dataset, and let's call the training set **bamboo_train**."
      ]
    },
    {
      "cell_type": "code",
      "metadata": {
        "button": false,
        "deletable": true,
        "new_sheet": false,
        "run_control": {
          "read_only": false
        },
        "id": "Up1hy0z68F7e",
        "colab_type": "code",
        "colab": {}
      },
      "source": [
        "bamboo_test_index = bamboo.index.isin(bamboo_test.index)\n",
        "bamboo_train = bamboo[~bamboo_test_index]\n",
        "\n",
        "bamboo_train_ingredients = bamboo_train.iloc[:,1:] # ingredients\n",
        "bamboo_train_cuisines = bamboo_train[\"cuisine\"] # corresponding cuisines or labels"
      ],
      "execution_count": 0,
      "outputs": []
    },
    {
      "cell_type": "markdown",
      "metadata": {
        "button": false,
        "deletable": true,
        "new_sheet": false,
        "run_control": {
          "read_only": false
        },
        "id": "qOu6oLJz8F7h",
        "colab_type": "text"
      },
      "source": [
        "Check that there are 30 _fewer_ recipes now for each cuisine."
      ]
    },
    {
      "cell_type": "code",
      "metadata": {
        "button": false,
        "deletable": true,
        "new_sheet": false,
        "run_control": {
          "read_only": false
        },
        "id": "vgB4aV6y8F7i",
        "colab_type": "code",
        "colab": {}
      },
      "source": [
        "bamboo_train[\"cuisine\"].value_counts()"
      ],
      "execution_count": 0,
      "outputs": []
    },
    {
      "cell_type": "markdown",
      "metadata": {
        "button": false,
        "deletable": true,
        "new_sheet": false,
        "run_control": {
          "read_only": false
        },
        "id": "mkkMGDJY8F7l",
        "colab_type": "text"
      },
      "source": [
        "Let's build the decision tree using the training set, **bamboo_train**, and name the generated tree **bamboo_train_tree** for prediction."
      ]
    },
    {
      "cell_type": "code",
      "metadata": {
        "button": false,
        "deletable": true,
        "new_sheet": false,
        "run_control": {
          "read_only": false
        },
        "id": "N4FCKqB18F7n",
        "colab_type": "code",
        "colab": {}
      },
      "source": [
        "bamboo_train_tree = tree.DecisionTreeClassifier(max_depth=15)\n",
        "bamboo_train_tree.fit(bamboo_train_ingredients, bamboo_train_cuisines)\n",
        "\n",
        "print(\"Decision tree model saved to bamboo_train_tree!\")"
      ],
      "execution_count": 0,
      "outputs": []
    },
    {
      "cell_type": "markdown",
      "metadata": {
        "button": false,
        "deletable": true,
        "new_sheet": false,
        "run_control": {
          "read_only": false
        },
        "id": "DsrTWtbC8F7p",
        "colab_type": "text"
      },
      "source": [
        "Let's plot the decision tree and explore it."
      ]
    },
    {
      "cell_type": "code",
      "metadata": {
        "button": false,
        "deletable": true,
        "new_sheet": false,
        "run_control": {
          "read_only": false
        },
        "scrolled": false,
        "id": "OdXUm6kL8F7q",
        "colab_type": "code",
        "colab": {}
      },
      "source": [
        "export_graphviz(bamboo_train_tree,\n",
        "                feature_names=list(bamboo_train_ingredients.columns.values),\n",
        "                out_file=\"bamboo_train_tree.dot\",\n",
        "                class_names=np.unique(bamboo_train_cuisines),\n",
        "                filled=True,\n",
        "                node_ids=True,\n",
        "                special_characters=True,\n",
        "                impurity=False,\n",
        "                label=\"all\",\n",
        "                leaves_parallel=False)\n",
        "\n",
        "with open(\"bamboo_train_tree.dot\") as bamboo_train_tree_image:\n",
        "    bamboo_train_tree_graph = bamboo_train_tree_image.read()\n",
        "graphviz.Source(bamboo_train_tree_graph)"
      ],
      "execution_count": 0,
      "outputs": []
    },
    {
      "cell_type": "markdown",
      "metadata": {
        "button": false,
        "deletable": true,
        "new_sheet": false,
        "run_control": {
          "read_only": false
        },
        "id": "P7E9c7tT8F7t",
        "colab_type": "text"
      },
      "source": [
        "Now that we defined our tree to be deeper, more decision nodes are generated."
      ]
    },
    {
      "cell_type": "markdown",
      "metadata": {
        "button": false,
        "deletable": true,
        "new_sheet": false,
        "run_control": {
          "read_only": false
        },
        "id": "I4SIfoe28F7u",
        "colab_type": "text"
      },
      "source": [
        "#### Now let's test our model on the test data."
      ]
    },
    {
      "cell_type": "code",
      "metadata": {
        "button": false,
        "deletable": true,
        "new_sheet": false,
        "run_control": {
          "read_only": false
        },
        "id": "PTDjbrAc8F7u",
        "colab_type": "code",
        "colab": {}
      },
      "source": [
        "bamboo_pred_cuisines = bamboo_train_tree.predict(bamboo_test_ingredients)"
      ],
      "execution_count": 0,
      "outputs": []
    },
    {
      "cell_type": "markdown",
      "metadata": {
        "button": false,
        "deletable": true,
        "new_sheet": false,
        "run_control": {
          "read_only": false
        },
        "id": "xdcek--f8F7y",
        "colab_type": "text"
      },
      "source": [
        "To quantify how well the decision tree is able to determine the cuisine of each recipe correctly, we will create a confusion matrix which presents a nice summary on how many recipes from each cuisine are correctly classified. It also sheds some light on what cuisines are being confused with what other cuisines."
      ]
    },
    {
      "cell_type": "markdown",
      "metadata": {
        "button": false,
        "deletable": true,
        "new_sheet": false,
        "run_control": {
          "read_only": false
        },
        "id": "a_onYDI58F70",
        "colab_type": "text"
      },
      "source": [
        "So let's go ahead and create the confusion matrix for how well the decision tree is able to correctly classify the recipes in **bamboo_test**."
      ]
    },
    {
      "cell_type": "code",
      "metadata": {
        "button": false,
        "deletable": true,
        "new_sheet": false,
        "run_control": {
          "read_only": false
        },
        "id": "ibu3jElf8F71",
        "colab_type": "code",
        "colab": {}
      },
      "source": [
        "test_cuisines = np.unique(bamboo_test_cuisines)\n",
        "bamboo_confusion_matrix = confusion_matrix(bamboo_test_cuisines, bamboo_pred_cuisines, test_cuisines)\n",
        "title = 'Bamboo Confusion Matrix'\n",
        "cmap = plt.cm.Blues\n",
        "\n",
        "plt.figure(figsize=(8, 6))\n",
        "bamboo_confusion_matrix = (\n",
        "    bamboo_confusion_matrix.astype('float') / bamboo_confusion_matrix.sum(axis=1)[:, np.newaxis]\n",
        "    ) * 100\n",
        "\n",
        "plt.imshow(bamboo_confusion_matrix, interpolation='nearest', cmap=cmap)\n",
        "plt.title(title)\n",
        "plt.colorbar()\n",
        "tick_marks = np.arange(len(test_cuisines))\n",
        "plt.xticks(tick_marks, test_cuisines)\n",
        "plt.yticks(tick_marks, test_cuisines)\n",
        "\n",
        "fmt = '.2f'\n",
        "thresh = bamboo_confusion_matrix.max() / 2.\n",
        "for i, j in itertools.product(range(bamboo_confusion_matrix.shape[0]), range(bamboo_confusion_matrix.shape[1])):\n",
        "    plt.text(j, i, format(bamboo_confusion_matrix[i, j], fmt),\n",
        "             horizontalalignment=\"center\",\n",
        "             color=\"white\" if bamboo_confusion_matrix[i, j] > thresh else \"black\")\n",
        "\n",
        "plt.tight_layout()\n",
        "plt.ylabel('True label')\n",
        "plt.xlabel('Predicted label')\n",
        "\n",
        "plt.show()"
      ],
      "execution_count": 0,
      "outputs": []
    },
    {
      "cell_type": "markdown",
      "metadata": {
        "button": false,
        "deletable": true,
        "new_sheet": false,
        "run_control": {
          "read_only": false
        },
        "id": "4cc77D5-8F7_",
        "colab_type": "text"
      },
      "source": [
        "After running the above code, you should get a confusion matrix similar to the following:"
      ]
    },
    {
      "cell_type": "markdown",
      "metadata": {
        "button": false,
        "deletable": true,
        "new_sheet": false,
        "run_control": {
          "read_only": false
        },
        "id": "LCTUSV4m8F8A",
        "colab_type": "text"
      },
      "source": [
        "<img src=\"https://ibm.box.com/shared/static/69f5m7txv2u6g47867qe0eypnfylrj4w.png\">"
      ]
    },
    {
      "cell_type": "markdown",
      "metadata": {
        "button": false,
        "deletable": true,
        "new_sheet": false,
        "run_control": {
          "read_only": false
        },
        "id": "PlyGtOIO8F8C",
        "colab_type": "text"
      },
      "source": [
        "The rows represent the actual cuisines from the dataset and the columns represent the predicted ones. Each row should sum to 100%. According to this confusion matrix, we make the following observations:\n",
        "\n",
        "* Using the first row in the confusion matrix, 60% of the **Chinese** recipes in **bamboo_test** were correctly classified by our decision tree whereas 37% of the **Chinese** recipes were misclassified as **Korean** and 3% were misclassified as **Indian**.\n",
        "\n",
        "* Using the Indian row, 77% of the **Indian** recipes in **bamboo_test** were correctly classified by our decision tree and 3% of the **Indian** recipes were misclassified as **Chinese** and 13% were misclassified as **Korean** and 7% were misclassified as **Thai**."
      ]
    },
    {
      "cell_type": "markdown",
      "metadata": {
        "button": false,
        "deletable": true,
        "new_sheet": false,
        "run_control": {
          "read_only": false
        },
        "id": "nXjXj6x58F8D",
        "colab_type": "text"
      },
      "source": [
        "**Please note** that because decision trees are created using random sampling of the datapoints in the training set, then you may not get the same results every time you create the decision tree even using the same training set. The performance should still be comparable though! So don't worry if you get slightly different numbers in your confusion matrix than the ones shown above."
      ]
    },
    {
      "cell_type": "markdown",
      "metadata": {
        "button": false,
        "deletable": true,
        "new_sheet": false,
        "run_control": {
          "read_only": false
        },
        "id": "0xCkJqye8F8F",
        "colab_type": "text"
      },
      "source": [
        "Using the reference confusion matrix, how many **Japanese** recipes were correctly classified by our decision tree?"
      ]
    },
    {
      "cell_type": "markdown",
      "metadata": {
        "button": false,
        "deletable": true,
        "new_sheet": false,
        "run_control": {
          "read_only": false
        },
        "id": "XFLL9-tz8F8G",
        "colab_type": "raw"
      },
      "source": [
        "Your Answer:\n",
        "\n"
      ]
    },
    {
      "cell_type": "markdown",
      "metadata": {
        "button": false,
        "deletable": true,
        "new_sheet": false,
        "run_control": {
          "read_only": false
        },
        "id": "eqKmvs4U8F8H",
        "colab_type": "text"
      },
      "source": [
        "Double-click __here__ for the solution.\n",
        "<!-- The correct answer is:\n",
        "36.67%.\n",
        "-->"
      ]
    },
    {
      "cell_type": "markdown",
      "metadata": {
        "button": false,
        "deletable": true,
        "new_sheet": false,
        "run_control": {
          "read_only": false
        },
        "id": "yZZReIcu8F8J",
        "colab_type": "text"
      },
      "source": [
        "Also using the reference confusion matrix, how many **Korean** recipes were misclassified as **Japanese**?"
      ]
    },
    {
      "cell_type": "markdown",
      "metadata": {
        "button": false,
        "deletable": true,
        "new_sheet": false,
        "run_control": {
          "read_only": false
        },
        "id": "HPuTiROa8F8L",
        "colab_type": "raw"
      },
      "source": [
        "Your Answer:\n",
        "\n"
      ]
    },
    {
      "cell_type": "markdown",
      "metadata": {
        "button": false,
        "deletable": true,
        "new_sheet": false,
        "run_control": {
          "read_only": false
        },
        "id": "K63rgyY-8F8M",
        "colab_type": "text"
      },
      "source": [
        "Double-click __here__ for the solution.\n",
        "<!-- The correct answer is:\n",
        "3.33%.\n",
        "-->"
      ]
    },
    {
      "cell_type": "markdown",
      "metadata": {
        "button": false,
        "deletable": true,
        "new_sheet": false,
        "run_control": {
          "read_only": false
        },
        "id": "MYQLMT1o8F8R",
        "colab_type": "text"
      },
      "source": [
        "What cuisine has the least number of recipes correctly classified by the decision tree using the reference confusion matrix?"
      ]
    },
    {
      "cell_type": "markdown",
      "metadata": {
        "button": false,
        "deletable": true,
        "new_sheet": false,
        "run_control": {
          "read_only": false
        },
        "id": "XRt1K6Gd8F8S",
        "colab_type": "raw"
      },
      "source": [
        "Your Answer:\n",
        "\n"
      ]
    },
    {
      "cell_type": "markdown",
      "metadata": {
        "button": false,
        "deletable": true,
        "new_sheet": false,
        "run_control": {
          "read_only": false
        },
        "id": "O6oV1thM8F8T",
        "colab_type": "text"
      },
      "source": [
        "Double-click __here__ for the solution.\n",
        "<!-- The correct answer is:\n",
        "Japanese cuisine, with 36.67% only.\n",
        "-->"
      ]
    },
    {
      "cell_type": "markdown",
      "metadata": {
        "button": false,
        "deletable": true,
        "new_sheet": false,
        "run_control": {
          "read_only": false
        },
        "id": "tQuoCMml8F8V",
        "colab_type": "text"
      },
      "source": [
        "<br>\n",
        "<hr>"
      ]
    },
    {
      "cell_type": "markdown",
      "metadata": {
        "button": false,
        "deletable": true,
        "new_sheet": false,
        "run_control": {
          "read_only": false
        },
        "id": "6JsUnRTB8F8W",
        "colab_type": "text"
      },
      "source": [
        "### Thank you for completing this lab!\n",
        "\n",
        "This notebook was created by Alex Aklson . We hope you found this lab session interesting. Feel free to contact us if you have any questions!"
      ]
    },
    {
      "cell_type": "markdown",
      "metadata": {
        "button": false,
        "deletable": true,
        "new_sheet": false,
        "run_control": {
          "read_only": false
        },
        "id": "AJZf3Nhm8F8X",
        "colab_type": "text"
      },
      "source": [
        "This notebook is part of a course on **Coursera** called *Data Science Methodology*. If you accessed this notebook outside the course, you can take this course, online by clicking [here](https://cocl.us/DS0103EN_Coursera_LAB4)."
      ]
    },
    {
      "cell_type": "markdown",
      "metadata": {
        "button": false,
        "deletable": true,
        "new_sheet": false,
        "run_control": {
          "read_only": false
        },
        "id": "TDXRdrng8F8Z",
        "colab_type": "text"
      },
      "source": [
        "<hr>\n",
        "\n",
        "Copyright &copy; 2019 [Cognitive Class](https://cognitiveclass.ai/?utm_source=bducopyrightlink&utm_medium=dswb&utm_campaign=bdu). This notebook and its source code are released under the terms of the [MIT License](https://bigdatauniversity.com/mit-license/)."
      ]
    }
  ]
}